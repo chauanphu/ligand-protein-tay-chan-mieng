{
 "cells": [
  {
   "cell_type": "markdown",
   "metadata": {
    "id": "7seNXVFZB-71"
   },
   "source": [
    "# First Phrase"
   ]
  },
  {
   "cell_type": "code",
   "execution_count": 50,
   "metadata": {},
   "outputs": [
    {
     "name": "stdout",
     "output_type": "stream",
     "text": [
      "Requirement already satisfied: rdkit in /opt/conda/lib/python3.11/site-packages (2023.9.5)\n",
      "Requirement already satisfied: tensorrt in /opt/conda/lib/python3.11/site-packages (8.6.1.post1)\n",
      "Requirement already satisfied: numpy in /opt/conda/lib/python3.11/site-packages (from rdkit) (1.26.4)\n",
      "Requirement already satisfied: Pillow in /opt/conda/lib/python3.11/site-packages (from rdkit) (10.2.0)\n"
     ]
    }
   ],
   "source": [
    "!pip install rdkit tensorrt"
   ]
  },
  {
   "cell_type": "markdown",
   "metadata": {
    "id": "GOhAIjjKB8eB"
   },
   "source": [
    "## Get library"
   ]
  },
  {
   "cell_type": "code",
   "execution_count": 51,
   "metadata": {
    "id": "rydxoEliqVee"
   },
   "outputs": [],
   "source": [
    "# Normal Lib\n",
    "import os\n",
    "import pandas as pd\n",
    "import numpy as np\n",
    "import math\n",
    "\n",
    "\n",
    "\n",
    "# keras\n",
    "from keras import Model\n",
    "import keras\n",
    "from keras.layers import Conv3D, Input, MaxPooling3D, BatchNormalization, Dense, Dropout, Flatten,Activation, GlobalAveragePooling3D\n",
    "import tensorflow as tf\n",
    "from keras.optimizers import Adam\n",
    "\n",
    "# Metrics\n",
    "from scipy.stats import pearsonr # Pearson R best\n",
    "from keras.metrics import MeanAbsoluteError\n",
    "from sklearn.metrics import matthews_corrcoef"
   ]
  },
  {
   "cell_type": "code",
   "execution_count": 52,
   "metadata": {},
   "outputs": [
    {
     "name": "stdout",
     "output_type": "stream",
     "text": [
      "[PhysicalDevice(name='/physical_device:GPU:0', device_type='GPU')]\n"
     ]
    }
   ],
   "source": [
    "print(tf.config.list_physical_devices('GPU'))"
   ]
  },
  {
   "cell_type": "code",
   "execution_count": 53,
   "metadata": {
    "colab": {
     "base_uri": "https://localhost:8080/"
    },
    "id": "Y-BFuDc3smcz",
    "outputId": "34d453e3-f560-42ad-8207-3bd311772724"
   },
   "outputs": [],
   "source": [
    "# !pip install rdkit\n",
    "from rdkit import Chem"
   ]
  },
  {
   "cell_type": "code",
   "execution_count": 54,
   "metadata": {
    "colab": {
     "base_uri": "https://localhost:8080/"
    },
    "id": "ZyBCQuGBsdQk",
    "outputId": "b0db1192-f990-421f-eb62-1d04d8b099bd"
   },
   "outputs": [],
   "source": [
    "# drive.mount('./gdrive/')\n",
    "# dataset_folder = '/content/gdrive/MyDrive/Final'\n",
    "# files = os.listdir(dataset_folder)\n",
    "# for file in files:\n",
    "#   if '.zip' in file:\n",
    "#     file_path = os.path.join(dataset_folder, file)\n",
    "#     with ZipFile(file_path, 'r') as f:\n",
    "#       f.extractall()"
   ]
  },
  {
   "cell_type": "markdown",
   "metadata": {
    "id": "bfhZ1RBIF_3F"
   },
   "source": [
    "## Get data and labels zip"
   ]
  },
  {
   "cell_type": "code",
   "execution_count": 55,
   "metadata": {
    "id": "9wET7OJUs11i"
   },
   "outputs": [],
   "source": [
    "protein_folder = './protein'\n",
    "protein_list = os.listdir(protein_folder)\n",
    "\n",
    "ligand_folder = './ligand'\n",
    "ligand_list = os.listdir(ligand_folder)\n",
    "\n",
    "label_folder = './label'\n",
    "label_list = os.listdir(label_folder)"
   ]
  },
  {
   "cell_type": "code",
   "execution_count": 56,
   "metadata": {
    "id": "y8iswvB8JvWr"
   },
   "outputs": [],
   "source": [
    "# protein_list"
   ]
  },
  {
   "cell_type": "code",
   "execution_count": 57,
   "metadata": {
    "colab": {
     "base_uri": "https://localhost:8080/"
    },
    "id": "OC1eYKJuuBmx",
    "outputId": "cb501700-ee1a-4e2a-d7fc-aca32ebb4cab"
   },
   "outputs": [
    {
     "data": {
      "text/plain": [
       "16786"
      ]
     },
     "execution_count": 57,
     "metadata": {},
     "output_type": "execute_result"
    }
   ],
   "source": [
    "totalSize = len(ligand_list)\n",
    "totalSize"
   ]
  },
  {
   "cell_type": "code",
   "execution_count": 58,
   "metadata": {
    "id": "Qa3c4LEYuFmf"
   },
   "outputs": [],
   "source": [
    "# permu = np.random.permutation(totalSize)\n",
    "permu = np.random.RandomState(seed=69).permutation(totalSize)"
   ]
  },
  {
   "cell_type": "code",
   "execution_count": 59,
   "metadata": {
    "id": "5WpKXm0iuJMo"
   },
   "outputs": [],
   "source": [
    "train_num, validate_num, test_num = 0,0,0"
   ]
  },
  {
   "cell_type": "code",
   "execution_count": 60,
   "metadata": {
    "id": "8SeJ3b9MuKtf"
   },
   "outputs": [],
   "source": [
    "iDataset_num = totalSize\n",
    "ratio = (60,20,20)"
   ]
  },
  {
   "cell_type": "code",
   "execution_count": 61,
   "metadata": {
    "id": "CWSyZ6GnuMVW"
   },
   "outputs": [],
   "source": [
    "train_num = int(iDataset_num * (ratio[0]/ (ratio[0]+ratio[1]+ratio[2])))\n",
    "# val_num = int(iDataset_num * (ratio[1]/ (ratio[0]+ratio[1]+ratio[2])))\n",
    "# test_num = int(iDataset_num * (ratio[2]/ (ratio[0]+ratio[1]+ratio[2])))\n",
    "\n",
    "val_num = 100\n",
    "test_num = 500\n",
    "last_num = 2000"
   ]
  },
  {
   "cell_type": "code",
   "execution_count": 62,
   "metadata": {
    "id": "QHDAew0puOX7"
   },
   "outputs": [],
   "source": [
    "train_list_IDs = permu[:train_num]\n",
    "val_list_IDs = permu[train_num:(train_num+val_num)]\n",
    "test_list_IDs = permu[(train_num+val_num):(train_num+val_num+test_num)]\n",
    "last_list_IDs = permu[(train_num+val_num+test_num):(train_num+val_num+test_num+last_num)]"
   ]
  },
  {
   "cell_type": "code",
   "execution_count": 63,
   "metadata": {
    "colab": {
     "base_uri": "https://localhost:8080/"
    },
    "id": "p-yS6Yz-iimS",
    "outputId": "5e2f2902-d5c4-4517-f9f5-af1ba964d414"
   },
   "outputs": [
    {
     "data": {
      "text/plain": [
       "array([ 1592, 14669,  5474, ...,  3035,  6871,  6499])"
      ]
     },
     "execution_count": 63,
     "metadata": {},
     "output_type": "execute_result"
    }
   ],
   "source": [
    "train_list_IDs"
   ]
  },
  {
   "cell_type": "markdown",
   "metadata": {
    "id": "VGCAQMThuqHY"
   },
   "source": [
    "## Get features"
   ]
  },
  {
   "cell_type": "code",
   "execution_count": 64,
   "metadata": {
    "id": "NnaKlWy9uhWR"
   },
   "outputs": [],
   "source": [
    "def get_atom_features(atom, amino_acid, isprotein):\n",
    "    ATOM_CODES = {}\n",
    "    metals = ([3, 4, 11, 12, 13] + list(range(19, 32))\n",
    "              + list(range(37, 51)) + list(range(55, 84))\n",
    "              + list(range(87, 104)))\n",
    "    atom_classes = [(5, 'B'), (6, 'C'), (7, 'N'), (8, 'O'), (15, 'P'), (16, 'S'), (34, 'Se'),\n",
    "                    ([9, 17, 35, 53], 'halogen'), (metals, 'metal')]\n",
    "    for code, (atomidx, name) in enumerate(atom_classes):\n",
    "        if type(atomidx) is list:\n",
    "            for a in atomidx:\n",
    "                ATOM_CODES[a] = code\n",
    "        else:\n",
    "            ATOM_CODES[atomidx] = code\n",
    "    try:\n",
    "        classes = ATOM_CODES[atom.GetAtomicNum()]\n",
    "    except:\n",
    "        classes = 9\n",
    "\n",
    "    possible_chirality_list = [\n",
    "        Chem.rdchem.ChiralType.CHI_UNSPECIFIED,\n",
    "        Chem.rdchem.ChiralType.CHI_TETRAHEDRAL_CW,\n",
    "        Chem.rdchem.ChiralType.CHI_TETRAHEDRAL_CCW,\n",
    "        Chem.rdchem.ChiralType.CHI_OTHER\n",
    "    ]\n",
    "    chirality = possible_chirality_list.index(atom.GetChiralTag())\n",
    "\n",
    "    possible_formal_charge_list = [-5, -4, -3, -2, -1, 0, 1, 2, 3, 4, 5]\n",
    "    try:\n",
    "        charge = possible_formal_charge_list.index(atom.GetFormalCharge())\n",
    "    except:\n",
    "        charge = 11\n",
    "\n",
    "    possible_hybridization_list = [\n",
    "        Chem.rdchem.HybridizationType.S,\n",
    "        Chem.rdchem.HybridizationType.SP,\n",
    "        Chem.rdchem.HybridizationType.SP2,\n",
    "        Chem.rdchem.HybridizationType.SP3,\n",
    "        Chem.rdchem.HybridizationType.SP3D,\n",
    "        Chem.rdchem.HybridizationType.SP3D2,\n",
    "        Chem.rdchem.HybridizationType.UNSPECIFIED\n",
    "    ]\n",
    "    try:\n",
    "        hyb = possible_hybridization_list.index(atom.GetHybridization())\n",
    "    except:\n",
    "        hyb = 6\n",
    "\n",
    "    possible_numH_list = [0, 1, 2, 3, 4, 5, 6, 7, 8]\n",
    "    try:\n",
    "        numH = possible_numH_list.index(atom.GetTotalNumHs())\n",
    "    except:\n",
    "        numH = 9\n",
    "\n",
    "    possible_implicit_valence_list = [0, 1, 2, 3, 4, 5, 6, 7]\n",
    "    try:\n",
    "        valence = possible_implicit_valence_list.index(atom.GetTotalValence())\n",
    "    except:\n",
    "        valence = 8\n",
    "\n",
    "    possible_degree_list = [0, 1, 2, 3, 4, 5, 6, 7, 8, 9, 10]\n",
    "    try:\n",
    "        degree = possible_degree_list.index(atom.GetTotalDegree())\n",
    "    except:\n",
    "        degree = 11\n",
    "\n",
    "    is_aromatic = [False, True]\n",
    "    aromatic = is_aromatic.index(atom.GetIsAromatic())\n",
    "\n",
    "    mass = atom.GetMass() / 100\n",
    "\n",
    "    # idx = atom.GetIdx()\n",
    "    # with open(protein_path, 'r+') as f:\n",
    "    #     readlines = f.readlines()\n",
    "    #     f.close()\n",
    "\n",
    "    amino_acids = [\n",
    "        'ALA', 'ARG', 'ASN', 'ASN', 'ASP', 'CYS', 'GLU', 'GLN', 'GLY', 'HIS', 'ILE', 'LEU', 'LYS', 'MET', 'PHE', 'PRO', 'SER', 'THR', 'TRP', 'TYR', 'VAL'\n",
    "    ]\n",
    "    if amino_acid in amino_acids:\n",
    "      amino_acid = amino_acids.index(amino_acid)\n",
    "    else:\n",
    "      amino_acid = int(len(amino_acids) + 1)\n",
    "\n",
    "    # amino_acid = amino_acids.index(amino_acid)\n",
    "    # amino_acid = 0\n",
    "    # for lines in readlines:\n",
    "    #     if 'HETATM' in lines or 'ATOM' in lines:\n",
    "    #         if idx == int(lines[6:11]):\n",
    "    #             amino_acid = lines[17:20]\n",
    "                # if amino_acid in amino_acids:\n",
    "                #     amino_acid = amino_acids.index(amino_acid)\n",
    "                # else:\n",
    "                #     amino_acid = int(len(amino_acids) + 1)\n",
    "\n",
    "    return [classes, chirality, charge, hyb, numH, valence, degree, aromatic, mass, amino_acid, isprotein]"
   ]
  },
  {
   "cell_type": "markdown",
   "metadata": {
    "id": "mMWb1BEUu1Cu"
   },
   "source": [
    "## Get min coordinates"
   ]
  },
  {
   "cell_type": "code",
   "execution_count": 65,
   "metadata": {
    "id": "wmvJ4RG6u0TQ"
   },
   "outputs": [],
   "source": [
    "def get_min(compound_positions):\n",
    "    minx,miny,minz = 999,999,999\n",
    "    for pos in compound_positions:\n",
    "        x, y, z = pos\n",
    "        if x < minx:\n",
    "            minx = x\n",
    "\n",
    "        if y < miny:\n",
    "            miny = y\n",
    "\n",
    "        if z < minz:\n",
    "            minz = z\n",
    "\n",
    "    return (minx,miny,minz)"
   ]
  },
  {
   "cell_type": "markdown",
   "metadata": {
    "id": "E02XwuXLu4UU"
   },
   "source": [
    "## Get grid"
   ]
  },
  {
   "cell_type": "code",
   "execution_count": 66,
   "metadata": {
    "id": "i8OGaz8Nu8hB"
   },
   "outputs": [],
   "source": [
    "def adjust_grid(compound, compound_positions, protein_path, isprotein, grid, minx, miny, minz):\n",
    "    \"\"\"\n",
    "    Adjusts the grid by adding features to specific grid positions based on the compound and protein information.\n",
    "\n",
    "    Args:\n",
    "        compound: The compound object.\n",
    "        compound_positions: The positions of the compound atoms.\n",
    "        protein_path: The path to the protein file.\n",
    "        isprotein: A boolean indicating whether the compound is a protein.\n",
    "        grid: The grid to be adjusted.\n",
    "        minx: The minimum x-coordinate value.\n",
    "        miny: The minimum y-coordinate value.\n",
    "        minz: The minimum z-coordinate value.\n",
    "\n",
    "    Returns:\n",
    "        The adjusted grid.\n",
    "    \"\"\"\n",
    "    atoms_aa = []\n",
    "    with open(protein_path, 'r+') as f:\n",
    "        readlines = f.readlines()\n",
    "        f.close()\n",
    "\n",
    "    for idx, lines in enumerate(readlines):\n",
    "        if 'HETATM' in lines or 'ATOM' in lines:\n",
    "            atoms_aa.append(lines[17:20])\n",
    "\n",
    "    for idx, pos in enumerate(compound_positions):\n",
    "        x, y, z = pos\n",
    "\n",
    "        amino_acid = atoms_aa[idx]\n",
    "        atom = compound.GetAtomWithIdx(int(idx))\n",
    "        features = get_atom_features(atom, amino_acid, isprotein)\n",
    "        features.extend(pos)\n",
    "\n",
    "        if grid[round(x - minx), round(y - miny), round(z - minz)][0] == 0:\n",
    "            grid[round(x - minx), round(y - miny), round(z - minz)] = features\n",
    "\n",
    "        elif grid[round(x - minx)+1, round(y - miny), round(z - minz)][0] == 0:\n",
    "            grid[round(x - minx)+1, round(y - miny), round(z - minz)] = features\n",
    "\n",
    "        elif grid[round(x - minx), round(y - miny)+1, round(z - minz)][0] == 0:\n",
    "            grid[round(x - minx), round(y - miny)+1, round(z - minz)] = features\n",
    "\n",
    "        elif grid[round(x - minx), round(y - miny), round(z - minz)+1][0] == 0:\n",
    "            grid[round(x - minx), round(y - miny), round(z - minz)+1] = features\n",
    "\n",
    "        elif grid[round(x - minx)+1, round(y - miny)+1, round(z - minz)][0] == 0:\n",
    "            grid[round(x - minx)+1, round(y - miny)+1, round(z - minz)] = features\n",
    "\n",
    "        elif grid[round(x - minx), round(y - miny)+1, round(z - minz)+1][0] == 0:\n",
    "            grid[round(x - minx), round(y - miny)+1, round(z - minz)+1] = features\n",
    "\n",
    "        elif grid[round(x - minx)+1, round(y - miny), round(z - minz)+1][0] == 0:\n",
    "            grid[round(x - minx)+1, round(y - miny), round(z - minz)+1] = features\n",
    "\n",
    "        elif grid[round(x - minx)+1, round(y - miny)+1, round(z - minz)+1][0] == 0:\n",
    "            grid[round(x - minx)+1, round(y - miny)+1, round(z - minz)+1] = features\n",
    "\n",
    "    return grid"
   ]
  },
  {
   "cell_type": "code",
   "execution_count": 67,
   "metadata": {
    "id": "AzmI_5kvGhmi"
   },
   "outputs": [],
   "source": [
    "# def adjust_grid_ligand(compound, compound_positions, protein_path, isprotein, grid, minx, miny, minz):\n",
    "#     for idx, pos in enumerate(compound_positions):\n",
    "#         x,y,z = pos\n",
    "\n",
    "#         atom = compound.GetAtomWithIdx(int(idx))\n",
    "#         features = get_atom_features(atom, protein_path, isprotein)\n",
    "#         features.extend(pos)\n",
    "\n",
    "#         if grid[round(x - minx), round(y - miny), round(z - minz)][0] == 0:\n",
    "#             grid[round(x - minx), round(y - miny), round(z - minz)] = features\n",
    "\n",
    "#         elif grid[round(x - minx)+1, round(y - miny), round(z - minz)][0] == 0:\n",
    "#             grid[round(x - minx)+1, round(y - miny), round(z - minz)] = features\n",
    "\n",
    "#         elif grid[round(x - minx), round(y - miny)+1, round(z - minz)][0] == 0:\n",
    "#             grid[round(x - minx), round(y - miny)+1, round(z - minz)] = features\n",
    "\n",
    "#         elif grid[round(x - minx), round(y - miny), round(z - minz)+1][0] == 0:\n",
    "#             grid[round(x - minx), round(y - miny), round(z - minz)+1] = features\n",
    "\n",
    "#         elif grid[round(x - minx)+1, round(y - miny)+1, round(z - minz)][0] == 0:\n",
    "#             grid[round(x - minx)+1, round(y - miny)+1, round(z - minz)] = features\n",
    "\n",
    "#         elif grid[round(x - minx), round(y - miny)+1, round(z - minz)+1][0] == 0:\n",
    "#             grid[round(x - minx), round(y - miny)+1, round(z - minz)+1] = features\n",
    "\n",
    "#         elif grid[round(x - minx)+1, round(y - miny), round(z - minz)+1][0] == 0:\n",
    "#             grid[round(x - minx)+1, round(y - miny), round(z - minz)+1] = features\n",
    "\n",
    "#         elif grid[round(x - minx)+1, round(y - miny)+1, round(z - minz)+1][0] == 0:\n",
    "#             grid[round(x - minx)+1, round(y - miny)+1, round(z - minz)+1] = features\n",
    "\n",
    "#     return grid"
   ]
  },
  {
   "cell_type": "code",
   "execution_count": 68,
   "metadata": {
    "id": "GuCLWiTcu9bT"
   },
   "outputs": [],
   "source": [
    "def set_grid(protein_path, isprotein= 1):\n",
    "    compound = Chem.MolFromPDBFile(protein_path, False, False, 1)\n",
    "    compound_conf = compound.GetConformer()\n",
    "    compound_positions = compound_conf.GetPositions()\n",
    "\n",
    "    atom = compound.GetAtomWithIdx(int(1))\n",
    "    features = get_atom_features(atom, '', isprotein)\n",
    "\n",
    "    minx, miny, minz = get_min(compound_positions)\n",
    "    # Generate empty grid with size 52x52x52x(features+3)\n",
    "    grid=np.zeros((52,52,52,len(features)+3))\n",
    "\n",
    "    adjusted_grid = adjust_grid(compound, compound_positions, protein_path, isprotein, grid, minx, miny, minz)\n",
    "\n",
    "    return adjusted_grid, minx, miny, minz"
   ]
  },
  {
   "cell_type": "markdown",
   "metadata": {
    "id": "xPeaCb1fvW7B"
   },
   "source": [
    "## Add ligand"
   ]
  },
  {
   "cell_type": "code",
   "execution_count": 69,
   "metadata": {
    "id": "0uy9yPU1u9X8"
   },
   "outputs": [],
   "source": [
    "def add_ligand(ligand_path, grid, minx, miny, minz, isprotein = 0):\n",
    "    ligand = Chem.MolFromPDBFile(ligand_path, False, False, 1)\n",
    "    ligand_conf = ligand.GetConformer()\n",
    "    ligand_positions = ligand_conf.GetPositions()\n",
    "\n",
    "    grid = adjust_grid(ligand, ligand_positions, ligand_path, isprotein, grid, minx, miny, minz)\n",
    "\n",
    "    return grid"
   ]
  },
  {
   "cell_type": "markdown",
   "metadata": {
    "id": "F9RDicuMvcI9"
   },
   "source": [
    "## Create Protein_Grid_list"
   ]
  },
  {
   "cell_type": "code",
   "execution_count": 70,
   "metadata": {
    "id": "ePB9ciPpu9VX"
   },
   "outputs": [],
   "source": [
    "def create_grid_list(protein_folder):\n",
    "    protein_list = os.listdir(protein_folder)\n",
    "    grids = []\n",
    "    for protein in protein_list:\n",
    "        protein_name = protein.split('.')[0]\n",
    "        protein_path = os.path.join(protein_folder, protein)\n",
    "\n",
    "        grid, minx, miny, minz = set_grid(protein_path)\n",
    "        grids.append((protein_name, grid, (minx, miny, minz)))\n",
    "    return grids\n"
   ]
  },
  {
   "cell_type": "markdown",
   "metadata": {
    "id": "ZkIbE3sbBuIl"
   },
   "source": [
    "## Get grid list"
   ]
  },
  {
   "cell_type": "code",
   "execution_count": 71,
   "metadata": {
    "id": "4XFQl0hbu9S6"
   },
   "outputs": [],
   "source": [
    "grids = create_grid_list(protein_folder)"
   ]
  },
  {
   "cell_type": "code",
   "execution_count": 72,
   "metadata": {
    "id": "04-iAek87Mze"
   },
   "outputs": [],
   "source": [
    "grid = grids[0][1]\n",
    "minx, miny, minz = grids[0][2]\n",
    "name = grids[0][0]"
   ]
  },
  {
   "cell_type": "code",
   "execution_count": 73,
   "metadata": {
    "id": "n7B6MJpN-Duz"
   },
   "outputs": [
    {
     "data": {
      "text/plain": [
       "array([[[[0., 0., 0., ..., 0., 0., 0.],\n",
       "         [0., 0., 0., ..., 0., 0., 0.],\n",
       "         [0., 0., 0., ..., 0., 0., 0.],\n",
       "         ...,\n",
       "         [0., 0., 0., ..., 0., 0., 0.],\n",
       "         [0., 0., 0., ..., 0., 0., 0.],\n",
       "         [0., 0., 0., ..., 0., 0., 0.]],\n",
       "\n",
       "        [[0., 0., 0., ..., 0., 0., 0.],\n",
       "         [0., 0., 0., ..., 0., 0., 0.],\n",
       "         [0., 0., 0., ..., 0., 0., 0.],\n",
       "         ...,\n",
       "         [0., 0., 0., ..., 0., 0., 0.],\n",
       "         [0., 0., 0., ..., 0., 0., 0.],\n",
       "         [0., 0., 0., ..., 0., 0., 0.]],\n",
       "\n",
       "        [[0., 0., 0., ..., 0., 0., 0.],\n",
       "         [0., 0., 0., ..., 0., 0., 0.],\n",
       "         [0., 0., 0., ..., 0., 0., 0.],\n",
       "         ...,\n",
       "         [0., 0., 0., ..., 0., 0., 0.],\n",
       "         [0., 0., 0., ..., 0., 0., 0.],\n",
       "         [0., 0., 0., ..., 0., 0., 0.]],\n",
       "\n",
       "        ...,\n",
       "\n",
       "        [[0., 0., 0., ..., 0., 0., 0.],\n",
       "         [0., 0., 0., ..., 0., 0., 0.],\n",
       "         [0., 0., 0., ..., 0., 0., 0.],\n",
       "         ...,\n",
       "         [0., 0., 0., ..., 0., 0., 0.],\n",
       "         [0., 0., 0., ..., 0., 0., 0.],\n",
       "         [0., 0., 0., ..., 0., 0., 0.]],\n",
       "\n",
       "        [[0., 0., 0., ..., 0., 0., 0.],\n",
       "         [0., 0., 0., ..., 0., 0., 0.],\n",
       "         [0., 0., 0., ..., 0., 0., 0.],\n",
       "         ...,\n",
       "         [0., 0., 0., ..., 0., 0., 0.],\n",
       "         [0., 0., 0., ..., 0., 0., 0.],\n",
       "         [0., 0., 0., ..., 0., 0., 0.]],\n",
       "\n",
       "        [[0., 0., 0., ..., 0., 0., 0.],\n",
       "         [0., 0., 0., ..., 0., 0., 0.],\n",
       "         [0., 0., 0., ..., 0., 0., 0.],\n",
       "         ...,\n",
       "         [0., 0., 0., ..., 0., 0., 0.],\n",
       "         [0., 0., 0., ..., 0., 0., 0.],\n",
       "         [0., 0., 0., ..., 0., 0., 0.]]],\n",
       "\n",
       "\n",
       "       [[[0., 0., 0., ..., 0., 0., 0.],\n",
       "         [0., 0., 0., ..., 0., 0., 0.],\n",
       "         [0., 0., 0., ..., 0., 0., 0.],\n",
       "         ...,\n",
       "         [0., 0., 0., ..., 0., 0., 0.],\n",
       "         [0., 0., 0., ..., 0., 0., 0.],\n",
       "         [0., 0., 0., ..., 0., 0., 0.]],\n",
       "\n",
       "        [[0., 0., 0., ..., 0., 0., 0.],\n",
       "         [0., 0., 0., ..., 0., 0., 0.],\n",
       "         [0., 0., 0., ..., 0., 0., 0.],\n",
       "         ...,\n",
       "         [0., 0., 0., ..., 0., 0., 0.],\n",
       "         [0., 0., 0., ..., 0., 0., 0.],\n",
       "         [0., 0., 0., ..., 0., 0., 0.]],\n",
       "\n",
       "        [[0., 0., 0., ..., 0., 0., 0.],\n",
       "         [0., 0., 0., ..., 0., 0., 0.],\n",
       "         [0., 0., 0., ..., 0., 0., 0.],\n",
       "         ...,\n",
       "         [0., 0., 0., ..., 0., 0., 0.],\n",
       "         [0., 0., 0., ..., 0., 0., 0.],\n",
       "         [0., 0., 0., ..., 0., 0., 0.]],\n",
       "\n",
       "        ...,\n",
       "\n",
       "        [[0., 0., 0., ..., 0., 0., 0.],\n",
       "         [0., 0., 0., ..., 0., 0., 0.],\n",
       "         [0., 0., 0., ..., 0., 0., 0.],\n",
       "         ...,\n",
       "         [0., 0., 0., ..., 0., 0., 0.],\n",
       "         [0., 0., 0., ..., 0., 0., 0.],\n",
       "         [0., 0., 0., ..., 0., 0., 0.]],\n",
       "\n",
       "        [[0., 0., 0., ..., 0., 0., 0.],\n",
       "         [0., 0., 0., ..., 0., 0., 0.],\n",
       "         [0., 0., 0., ..., 0., 0., 0.],\n",
       "         ...,\n",
       "         [0., 0., 0., ..., 0., 0., 0.],\n",
       "         [0., 0., 0., ..., 0., 0., 0.],\n",
       "         [0., 0., 0., ..., 0., 0., 0.]],\n",
       "\n",
       "        [[0., 0., 0., ..., 0., 0., 0.],\n",
       "         [0., 0., 0., ..., 0., 0., 0.],\n",
       "         [0., 0., 0., ..., 0., 0., 0.],\n",
       "         ...,\n",
       "         [0., 0., 0., ..., 0., 0., 0.],\n",
       "         [0., 0., 0., ..., 0., 0., 0.],\n",
       "         [0., 0., 0., ..., 0., 0., 0.]]],\n",
       "\n",
       "\n",
       "       [[[0., 0., 0., ..., 0., 0., 0.],\n",
       "         [0., 0., 0., ..., 0., 0., 0.],\n",
       "         [0., 0., 0., ..., 0., 0., 0.],\n",
       "         ...,\n",
       "         [0., 0., 0., ..., 0., 0., 0.],\n",
       "         [0., 0., 0., ..., 0., 0., 0.],\n",
       "         [0., 0., 0., ..., 0., 0., 0.]],\n",
       "\n",
       "        [[0., 0., 0., ..., 0., 0., 0.],\n",
       "         [0., 0., 0., ..., 0., 0., 0.],\n",
       "         [0., 0., 0., ..., 0., 0., 0.],\n",
       "         ...,\n",
       "         [0., 0., 0., ..., 0., 0., 0.],\n",
       "         [0., 0., 0., ..., 0., 0., 0.],\n",
       "         [0., 0., 0., ..., 0., 0., 0.]],\n",
       "\n",
       "        [[0., 0., 0., ..., 0., 0., 0.],\n",
       "         [0., 0., 0., ..., 0., 0., 0.],\n",
       "         [0., 0., 0., ..., 0., 0., 0.],\n",
       "         ...,\n",
       "         [0., 0., 0., ..., 0., 0., 0.],\n",
       "         [0., 0., 0., ..., 0., 0., 0.],\n",
       "         [0., 0., 0., ..., 0., 0., 0.]],\n",
       "\n",
       "        ...,\n",
       "\n",
       "        [[0., 0., 0., ..., 0., 0., 0.],\n",
       "         [0., 0., 0., ..., 0., 0., 0.],\n",
       "         [0., 0., 0., ..., 0., 0., 0.],\n",
       "         ...,\n",
       "         [0., 0., 0., ..., 0., 0., 0.],\n",
       "         [0., 0., 0., ..., 0., 0., 0.],\n",
       "         [0., 0., 0., ..., 0., 0., 0.]],\n",
       "\n",
       "        [[0., 0., 0., ..., 0., 0., 0.],\n",
       "         [0., 0., 0., ..., 0., 0., 0.],\n",
       "         [0., 0., 0., ..., 0., 0., 0.],\n",
       "         ...,\n",
       "         [0., 0., 0., ..., 0., 0., 0.],\n",
       "         [0., 0., 0., ..., 0., 0., 0.],\n",
       "         [0., 0., 0., ..., 0., 0., 0.]],\n",
       "\n",
       "        [[0., 0., 0., ..., 0., 0., 0.],\n",
       "         [0., 0., 0., ..., 0., 0., 0.],\n",
       "         [0., 0., 0., ..., 0., 0., 0.],\n",
       "         ...,\n",
       "         [0., 0., 0., ..., 0., 0., 0.],\n",
       "         [0., 0., 0., ..., 0., 0., 0.],\n",
       "         [0., 0., 0., ..., 0., 0., 0.]]],\n",
       "\n",
       "\n",
       "       ...,\n",
       "\n",
       "\n",
       "       [[[0., 0., 0., ..., 0., 0., 0.],\n",
       "         [0., 0., 0., ..., 0., 0., 0.],\n",
       "         [0., 0., 0., ..., 0., 0., 0.],\n",
       "         ...,\n",
       "         [0., 0., 0., ..., 0., 0., 0.],\n",
       "         [0., 0., 0., ..., 0., 0., 0.],\n",
       "         [0., 0., 0., ..., 0., 0., 0.]],\n",
       "\n",
       "        [[0., 0., 0., ..., 0., 0., 0.],\n",
       "         [0., 0., 0., ..., 0., 0., 0.],\n",
       "         [0., 0., 0., ..., 0., 0., 0.],\n",
       "         ...,\n",
       "         [0., 0., 0., ..., 0., 0., 0.],\n",
       "         [0., 0., 0., ..., 0., 0., 0.],\n",
       "         [0., 0., 0., ..., 0., 0., 0.]],\n",
       "\n",
       "        [[0., 0., 0., ..., 0., 0., 0.],\n",
       "         [0., 0., 0., ..., 0., 0., 0.],\n",
       "         [0., 0., 0., ..., 0., 0., 0.],\n",
       "         ...,\n",
       "         [0., 0., 0., ..., 0., 0., 0.],\n",
       "         [0., 0., 0., ..., 0., 0., 0.],\n",
       "         [0., 0., 0., ..., 0., 0., 0.]],\n",
       "\n",
       "        ...,\n",
       "\n",
       "        [[0., 0., 0., ..., 0., 0., 0.],\n",
       "         [0., 0., 0., ..., 0., 0., 0.],\n",
       "         [0., 0., 0., ..., 0., 0., 0.],\n",
       "         ...,\n",
       "         [0., 0., 0., ..., 0., 0., 0.],\n",
       "         [0., 0., 0., ..., 0., 0., 0.],\n",
       "         [0., 0., 0., ..., 0., 0., 0.]],\n",
       "\n",
       "        [[0., 0., 0., ..., 0., 0., 0.],\n",
       "         [0., 0., 0., ..., 0., 0., 0.],\n",
       "         [0., 0., 0., ..., 0., 0., 0.],\n",
       "         ...,\n",
       "         [0., 0., 0., ..., 0., 0., 0.],\n",
       "         [0., 0., 0., ..., 0., 0., 0.],\n",
       "         [0., 0., 0., ..., 0., 0., 0.]],\n",
       "\n",
       "        [[0., 0., 0., ..., 0., 0., 0.],\n",
       "         [0., 0., 0., ..., 0., 0., 0.],\n",
       "         [0., 0., 0., ..., 0., 0., 0.],\n",
       "         ...,\n",
       "         [0., 0., 0., ..., 0., 0., 0.],\n",
       "         [0., 0., 0., ..., 0., 0., 0.],\n",
       "         [0., 0., 0., ..., 0., 0., 0.]]],\n",
       "\n",
       "\n",
       "       [[[0., 0., 0., ..., 0., 0., 0.],\n",
       "         [0., 0., 0., ..., 0., 0., 0.],\n",
       "         [0., 0., 0., ..., 0., 0., 0.],\n",
       "         ...,\n",
       "         [0., 0., 0., ..., 0., 0., 0.],\n",
       "         [0., 0., 0., ..., 0., 0., 0.],\n",
       "         [0., 0., 0., ..., 0., 0., 0.]],\n",
       "\n",
       "        [[0., 0., 0., ..., 0., 0., 0.],\n",
       "         [0., 0., 0., ..., 0., 0., 0.],\n",
       "         [0., 0., 0., ..., 0., 0., 0.],\n",
       "         ...,\n",
       "         [0., 0., 0., ..., 0., 0., 0.],\n",
       "         [0., 0., 0., ..., 0., 0., 0.],\n",
       "         [0., 0., 0., ..., 0., 0., 0.]],\n",
       "\n",
       "        [[0., 0., 0., ..., 0., 0., 0.],\n",
       "         [0., 0., 0., ..., 0., 0., 0.],\n",
       "         [0., 0., 0., ..., 0., 0., 0.],\n",
       "         ...,\n",
       "         [0., 0., 0., ..., 0., 0., 0.],\n",
       "         [0., 0., 0., ..., 0., 0., 0.],\n",
       "         [0., 0., 0., ..., 0., 0., 0.]],\n",
       "\n",
       "        ...,\n",
       "\n",
       "        [[0., 0., 0., ..., 0., 0., 0.],\n",
       "         [0., 0., 0., ..., 0., 0., 0.],\n",
       "         [0., 0., 0., ..., 0., 0., 0.],\n",
       "         ...,\n",
       "         [0., 0., 0., ..., 0., 0., 0.],\n",
       "         [0., 0., 0., ..., 0., 0., 0.],\n",
       "         [0., 0., 0., ..., 0., 0., 0.]],\n",
       "\n",
       "        [[0., 0., 0., ..., 0., 0., 0.],\n",
       "         [0., 0., 0., ..., 0., 0., 0.],\n",
       "         [0., 0., 0., ..., 0., 0., 0.],\n",
       "         ...,\n",
       "         [0., 0., 0., ..., 0., 0., 0.],\n",
       "         [0., 0., 0., ..., 0., 0., 0.],\n",
       "         [0., 0., 0., ..., 0., 0., 0.]],\n",
       "\n",
       "        [[0., 0., 0., ..., 0., 0., 0.],\n",
       "         [0., 0., 0., ..., 0., 0., 0.],\n",
       "         [0., 0., 0., ..., 0., 0., 0.],\n",
       "         ...,\n",
       "         [0., 0., 0., ..., 0., 0., 0.],\n",
       "         [0., 0., 0., ..., 0., 0., 0.],\n",
       "         [0., 0., 0., ..., 0., 0., 0.]]],\n",
       "\n",
       "\n",
       "       [[[0., 0., 0., ..., 0., 0., 0.],\n",
       "         [0., 0., 0., ..., 0., 0., 0.],\n",
       "         [0., 0., 0., ..., 0., 0., 0.],\n",
       "         ...,\n",
       "         [0., 0., 0., ..., 0., 0., 0.],\n",
       "         [0., 0., 0., ..., 0., 0., 0.],\n",
       "         [0., 0., 0., ..., 0., 0., 0.]],\n",
       "\n",
       "        [[0., 0., 0., ..., 0., 0., 0.],\n",
       "         [0., 0., 0., ..., 0., 0., 0.],\n",
       "         [0., 0., 0., ..., 0., 0., 0.],\n",
       "         ...,\n",
       "         [0., 0., 0., ..., 0., 0., 0.],\n",
       "         [0., 0., 0., ..., 0., 0., 0.],\n",
       "         [0., 0., 0., ..., 0., 0., 0.]],\n",
       "\n",
       "        [[0., 0., 0., ..., 0., 0., 0.],\n",
       "         [0., 0., 0., ..., 0., 0., 0.],\n",
       "         [0., 0., 0., ..., 0., 0., 0.],\n",
       "         ...,\n",
       "         [0., 0., 0., ..., 0., 0., 0.],\n",
       "         [0., 0., 0., ..., 0., 0., 0.],\n",
       "         [0., 0., 0., ..., 0., 0., 0.]],\n",
       "\n",
       "        ...,\n",
       "\n",
       "        [[0., 0., 0., ..., 0., 0., 0.],\n",
       "         [0., 0., 0., ..., 0., 0., 0.],\n",
       "         [0., 0., 0., ..., 0., 0., 0.],\n",
       "         ...,\n",
       "         [0., 0., 0., ..., 0., 0., 0.],\n",
       "         [0., 0., 0., ..., 0., 0., 0.],\n",
       "         [0., 0., 0., ..., 0., 0., 0.]],\n",
       "\n",
       "        [[0., 0., 0., ..., 0., 0., 0.],\n",
       "         [0., 0., 0., ..., 0., 0., 0.],\n",
       "         [0., 0., 0., ..., 0., 0., 0.],\n",
       "         ...,\n",
       "         [0., 0., 0., ..., 0., 0., 0.],\n",
       "         [0., 0., 0., ..., 0., 0., 0.],\n",
       "         [0., 0., 0., ..., 0., 0., 0.]],\n",
       "\n",
       "        [[0., 0., 0., ..., 0., 0., 0.],\n",
       "         [0., 0., 0., ..., 0., 0., 0.],\n",
       "         [0., 0., 0., ..., 0., 0., 0.],\n",
       "         ...,\n",
       "         [0., 0., 0., ..., 0., 0., 0.],\n",
       "         [0., 0., 0., ..., 0., 0., 0.],\n",
       "         [0., 0., 0., ..., 0., 0., 0.]]]])"
      ]
     },
     "execution_count": 73,
     "metadata": {},
     "output_type": "execute_result"
    }
   ],
   "source": [
    "new_grid = add_ligand('./ligand/3qzq-8v_model13.pdb', grid, minx, miny, minz)\n",
    "new_grid"
   ]
  },
  {
   "cell_type": "code",
   "execution_count": 74,
   "metadata": {
    "id": "Cq3-A-xO6gXc"
   },
   "outputs": [
    {
     "name": "stdout",
     "output_type": "stream",
     "text": [
      "5514\n"
     ]
    }
   ],
   "source": [
    "# # for grid in grids:\n",
    "count = 0\n",
    "for x in new_grid:\n",
    "    for y in x:\n",
    "      for features in y:\n",
    "        if features[0] != 0:\n",
    "          # print(features)\n",
    "          count+=1\n",
    "print(count)"
   ]
  },
  {
   "cell_type": "markdown",
   "metadata": {
    "id": "2qtzJrlqBwRU"
   },
   "source": [
    "## Get batch data"
   ]
  },
  {
   "cell_type": "code",
   "execution_count": 75,
   "metadata": {
    "id": "2YmMvGDLTpQ8"
   },
   "outputs": [],
   "source": [
    "# /content/ligand/3qzq-10b_model1.pdb"
   ]
  },
  {
   "cell_type": "code",
   "execution_count": 76,
   "metadata": {
    "id": "hr-X9qxhu9OB"
   },
   "outputs": [],
   "source": [
    "def get_data_batch(dataset_idx, protein_folder, ligand_folder, ligand_list, label_folder, label_list, batch_size, index):\n",
    "  \"\"\"\n",
    "  Retrieves a batch of data from the dataset.\n",
    "\n",
    "  Args:\n",
    "  - dataset_idx (list): List of indices representing the dataset.\n",
    "  - protein_folder (str): Path to the folder containing protein files.\n",
    "  - ligand_folder (str): Path to the folder containing ligand files.\n",
    "  - ligand_list (list): List of ligand file names.\n",
    "  - label_folder (str): Path to the folder containing label files.\n",
    "  - label_list (list): List of label file names.\n",
    "  - batch_size (int): Number of samples per batch.\n",
    "  - index (int): Index of the batch to retrieve.\n",
    "\n",
    "  Returns:\n",
    "    tuple: A tuple containing the following arrays:\n",
    "      - gridList (numpy.ndarray): Array of grid data.\n",
    "      - baList (numpy.ndarray): Array of binding affinity values.\n",
    "      - statList (numpy.ndarray): Array of hit/no-hit labels.\n",
    "  \"\"\"\n",
    "  baList = []\n",
    "  statList = []\n",
    "  gridList = []\n",
    "\n",
    "  batch_list = [value for idx, value in enumerate(dataset_idx) if idx >= index * batch_size and idx < (index+1)*batch_size ]\n",
    "  \n",
    "  for i in batch_list:\n",
    "    complexFile = ligand_list[i]\n",
    "    from_protein = complexFile.split('-')[0]\n",
    "    complex_name = complexFile.split('.')[0]\n",
    "    protein_path = os.path.join(protein_folder, from_protein + '.pdb')\n",
    "    complexFile_path = os.path.join(ligand_folder, complexFile)\n",
    "    grid, minx, miny, minz = set_grid(protein_path)\n",
    "    grid = add_ligand(complexFile_path, grid, minx, miny, minz)\n",
    "    gridList.append(grid)\n",
    "    \n",
    "    protein = [value for value in label_list if from_protein in value][0]\n",
    "    label_file_path = os.path.join(label_folder, protein)\n",
    "\n",
    "    df = pd.read_csv(label_file_path)\n",
    "    # For each records in the dataframe,\n",
    "    listidx = df.index[df['file.pdb'] == complex_name].tolist()[0]\n",
    "    ba = df['BA'][listidx]\n",
    "    stat = df['Hit/No_hit'][listidx]\n",
    "    if stat == 'hit':\n",
    "      stat = 1\n",
    "    else:\n",
    "      stat = 0\n",
    "    baList.append(ba)\n",
    "    statList.append(stat)\n",
    "  \n",
    "  gridList = np.array(gridList)\n",
    "  baList = np.array(baList)\n",
    "  statList = np.array(statList)\n",
    "\n",
    "  return gridList, baList, statList\n"
   ]
  },
  {
   "cell_type": "code",
   "execution_count": 77,
   "metadata": {
    "id": "PCZaEnEzu9Lv"
   },
   "outputs": [],
   "source": [
    "gridList, baList, statList = get_data_batch(train_list_IDs, protein_folder, ligand_folder, ligand_list, label_folder, label_list, 32, 0)"
   ]
  },
  {
   "cell_type": "code",
   "execution_count": 78,
   "metadata": {
    "id": "NzeS31bpu9AU"
   },
   "outputs": [],
   "source": [
    "# Check if the grid is correct\n",
    "# for grid in gridList:\n",
    "#   count = 0\n",
    "#   for x in grid:\n",
    "#     for y in x:\n",
    "#       for features in y:\n",
    "#         if features[0] != 0:\n",
    "#           # print(features)\n",
    "#           count+=1\n",
    "#   print(count)"
   ]
  },
  {
   "cell_type": "code",
   "execution_count": 79,
   "metadata": {
    "id": "8xIpTOZKkSg6"
   },
   "outputs": [],
   "source": [
    "# os.path.exists(path)\n",
    "# tp = keras.metrics.TruePositives"
   ]
  },
  {
   "cell_type": "markdown",
   "metadata": {
    "id": "eMSdt1bMmX_6"
   },
   "source": [
    "## Get metric"
   ]
  },
  {
   "cell_type": "code",
   "execution_count": 80,
   "metadata": {
    "id": "CSzpXQySmZwL"
   },
   "outputs": [],
   "source": [
    "def get_metrics(y_label, y_pred, ytype):\n",
    "\n",
    "  if ytype == 0: # Regression\n",
    "    print(\"++++++++++++++++++++++++++Regression++++++++++++++++++++++++++\")\n",
    "    PearsonR, _ = pearsonr(y_label, y_pred)\n",
    "    print('Pearson Correlation Coefficient: ' + str(PearsonR))\n",
    "    MSE = MeanAbsoluteError()\n",
    "    MSE.update_state(y_label, y_pred)\n",
    "    MSE = MSE.result().numpy()\n",
    "    print('Mean Absolute Error: ' + str(MSE))\n",
    "    # RMSE = math.sqrt(MSE)\n",
    "    # print('Root Mean Absolute Error: ' + str(RMSE))\n",
    "\n",
    "    return PearsonR, MSE\n",
    "\n",
    "  if ytype == 1: # Classification\n",
    "    print(\"+++++++++++++++++++++++Classification+++++++++++++++++++++++\")\n",
    "    # auc = keras.metrics.AUC()\n",
    "    tp = keras.metrics.TruePositives(thresholds= 0.9)\n",
    "    tn = keras.metrics.TrueNegatives(thresholds= 0.9)\n",
    "    fp = keras.metrics.FalsePositives(thresholds= 0.9)\n",
    "    fn = keras.metrics.FalseNegatives(thresholds= 0.9)\n",
    "      \n",
    "    # auc.update_state(y_label, y_pred)\n",
    "    tp.update_state(y_label, y_pred)\n",
    "    tn.update_state(y_label, y_pred)\n",
    "    fp.update_state(y_label, y_pred)\n",
    "    fn.update_state(y_label, y_pred)\n",
    "    \n",
    "    # auc = auc.result().numpy()\n",
    "    tp_result = tp.result().numpy()\n",
    "    tn_result = tn.result().numpy()\n",
    "    fp_result = fp.result().numpy()\n",
    "    fn_result = fn.result().numpy()\n",
    "    print(\"TP Result:\", tp_result)\n",
    "    print(\"FP Result:\", fp_result)\n",
    "    precision = tp_result/ (tp_result+fp_result) # PPV\n",
    "    print('Precision: ' + str(precision))\n",
    "\n",
    "    # recall = Recall()\n",
    "    # recall.update_state(y_label, y_pred)\n",
    "    # recall = recall.result().numpy()\n",
    "    recall = tp_result/(tp_result+fn_result) # Recall - TPR\n",
    "    print('Recall: ' + str(recall))\n",
    "\n",
    "    specificity = tn_result/(tn_result+fp_result)\n",
    "    print('Specificity: ' + str(specificity))\n",
    "\n",
    "    NPV = tn_result/(tn_result+fn_result)\n",
    "    print('NPV: ' + str(NPV))\n",
    "\n",
    "    # accuracy = Accuracy()\n",
    "    # accuracy.update_state(y_label, y_pred)\n",
    "    # accuracy = accuracy.result().numpy()\n",
    "    # print('AUC: ' + str(auc))\n",
    "\n",
    "    # f1_score = 2 * (precision * recall) / (precision + recall)\n",
    "    # print('F1_Score: ' + str(f1_score))\n",
    "\n",
    "    MCC = (tp_result*tn_result - fp_result*fn_result)/ math.sqrt((tp_result+fp_result)*(tp_result+fn_result)*(tn_result+fp_result)*(tn_result+fn_result)  ) # Phi coefficient\n",
    "    print(\"Phi coefficient:\" + str(MCC))\n",
    "\n",
    "    return precision, recall, specificity, NPV, MCC"
   ]
  },
  {
   "cell_type": "code",
   "execution_count": 81,
   "metadata": {
    "id": "NTUwfQ5_m0xS"
   },
   "outputs": [],
   "source": [
    "# def get_metrics_test(y_label, y_pred, ytype):\n",
    "\n",
    "#   if ytype == 0: # Regression\n",
    "#     print(\"++++++++++++++++++++++++++Regression++++++++++++++++++++++++++\")\n",
    "#     PearsonR, _ = pearsonr(y_label, y_pred)\n",
    "#     print('Pearson Correlation Coefficient: ' + str(PearsonR))\n",
    "#     MSE = MeanAbsoluteError()\n",
    "#     MSE.update_state(y_label, y_pred)\n",
    "#     MSE = MSE.result().numpy()\n",
    "#     # print('Mean Absolute Error: ' + str(MSE))\n",
    "#     RMSE = math.sqrt(MSE)\n",
    "#     print('Root Mean Absolute Error: ' + str(RMSE))\n",
    "\n",
    "#     return PearsonR, MSE, RMSE\n",
    "\n",
    "#   if ytype == 1: # Classification\n",
    "#     print(\"+++++++++++++++++++++++Classification+++++++++++++++++++++++\")\n",
    "#     auc = keras.metrics.AUC()\n",
    "#     tp = keras.metrics.TruePositives(thresholds= 0.6)\n",
    "#     tn = keras.metrics.TrueNegatives(thresholds= 0.6)\n",
    "#     fp = keras.metrics.FalsePositives(thresholds= 0.6)\n",
    "#     fn = keras.metrics.FalseNegatives(thresholds= 0.6)\n",
    "\n",
    "#     auc.update_state(y_label, y_pred)\n",
    "#     tp.update_state(y_label, y_pred)\n",
    "#     tn.update_state(y_label, y_pred)\n",
    "#     fp.update_state(y_label, y_pred)\n",
    "#     fn.update_state(y_label, y_pred)\n",
    "\n",
    "#     auc = auc.result().numpy()\n",
    "#     tp = tp.result().numpy()\n",
    "#     tn = tn.result().numpy()\n",
    "#     fp = fp.result().numpy()\n",
    "#     fn = fn.result().numpy()\n",
    "\n",
    "#     print('True Positive: ' + str(tp))\n",
    "#     print('True Negative: ' + str(tn))\n",
    "#     print('False Positive: ' + str(fp))\n",
    "#     print('False Negative: ' + str(fn))\n",
    "\n",
    "#     # print(\"\")\n",
    "#     # precision = Precision()\n",
    "#     # precision.update_state(y_label, y_pred)\n",
    "#     # precision = precision.result().numpy()\n",
    "#     precision = tp/ (tp+fp) # PPV\n",
    "#     # print('Precision: ' + str(precision))\n",
    "\n",
    "#     # recall = Recall()\n",
    "#     # recall.update_state(y_label, y_pred)\n",
    "#     # recall = recall.result().numpy()\n",
    "#     recall = tp/(tp+fn) # Recall - TPR\n",
    "#     # print('Recall: ' + str(recall))\n",
    "\n",
    "#     # accuracy = Accuracy()\n",
    "#     # accuracy.update_state(y_label, y_pred)\n",
    "#     # accuracy = accuracy.result().numpy()\n",
    "#     print('AUC: ' + str(auc))\n",
    "\n",
    "#     f1_score = 2 * (precision * recall) / (precision + recall)\n",
    "#     # print('F1_Score: ' + str(f1_score))\n",
    "\n",
    "#     MCC = (tp*tn - fp*fn)/ math.sqrt(   (tp+fp)*(tp+fn)*(tn+fp)*(tn+fn)  ) # Phi coefficient\n",
    "#     print(\"Phi coefficient:\" + str(MCC))\n",
    "\n",
    "#     return precision, recall, auc, f1_score, MCC"
   ]
  },
  {
   "cell_type": "code",
   "execution_count": 82,
   "metadata": {
    "id": "NnQELP5jJoRD"
   },
   "outputs": [],
   "source": [
    "# csv_path = '/content/gdrive/MyDrive/Final/CSV/resultCSV.csv'"
   ]
  },
  {
   "cell_type": "code",
   "execution_count": 83,
   "metadata": {
    "id": "kqkK40YEI85z"
   },
   "outputs": [],
   "source": [
    "# csvfile = open(csv_path, 'w')"
   ]
  },
  {
   "cell_type": "markdown",
   "metadata": {
    "id": "aMvN-rDijFU8"
   },
   "source": [
    "## Get Validate"
   ]
  },
  {
   "cell_type": "code",
   "execution_count": 84,
   "metadata": {
    "id": "ThTKjDtJKpKH"
   },
   "outputs": [],
   "source": [
    "import csv"
   ]
  },
  {
   "cell_type": "code",
   "execution_count": 85,
   "metadata": {
    "id": "Bg6ap2hLjJjQ"
   },
   "outputs": [],
   "source": [
    "def model_val_dataset(val_dataset_idx, protein_folder, label_folder, label_list, batch_size, save_path):\n",
    "  dataset_len = len(val_dataset_idx)\n",
    "  runs = dataset_len // batch_size\n",
    "  last_batch = dataset_len - batch_size*runs\n",
    "  model = keras.models.load_model(save_path+'.keras')\n",
    "  # csv_path = 'resultCSV.csv'\n",
    "  # csv_path = os.path.join(best_path, csv_path)\n",
    "  # csvfile = open(csv_path, 'w')\n",
    "  # fields = ['Model', 'Prediction C', 'Label C', 'Prediction R', 'Prediction R']\n",
    "  # writer = csv.writer(f)\n",
    "  # writer = csv.writer(csvfile)\n",
    "  # writer.writerow(fields)\n",
    "  # PearsonR_list, MCC_list, RSME_list = 0,0,0\n",
    "  ba_Actual, stat_Actual, ba_Pred, stat_Pred = [], [], [], []\n",
    "  print(\"----------------------- Start ValDataset ------------------------\")\n",
    "  for i in range(int(runs+1)):\n",
    "\n",
    "    print(\"Get dataset on batch \"+str(i+1))\n",
    "    # If it is not the last batch\n",
    "    if i != runs+1:\n",
    "      gridList, baList, statList = get_data_batch(val_dataset_idx, protein_folder, ligand_folder, ligand_list, label_folder, label_list, batch_size, i)\n",
    "    else:\n",
    "      gridList, baList, statList = get_data_batch(val_dataset_idx, protein_folder, ligand_folder, ligand_list, label_folder, label_list, last_batch, i)\n",
    "\n",
    "    print(\"----------------------- Predict ValDataset ------------------------\")\n",
    "    result = model.predict(gridList, verbose=2)\n",
    "    gridList = []\n",
    "    pred_reg, pred_class = result\n",
    "\n",
    "    baList = [value for value in baList.tolist()]\n",
    "    statList = [value for value in statList.tolist()]\n",
    "\n",
    "\n",
    "    pred_reg = [value[0] for value in pred_reg.tolist()]\n",
    "    pred_class = [value[0] for value in pred_class.tolist()]\n",
    "\n",
    "    if ba_Actual == []:\n",
    "      ba_Actual = baList\n",
    "      stat_Actual = statList\n",
    "      ba_Pred = pred_reg\n",
    "      stat_Pred = pred_class\n",
    "    else:\n",
    "      ba_Actual.extend(baList)\n",
    "      stat_Actual.extend(statList)\n",
    "      ba_Pred.extend(pred_reg)\n",
    "      stat_Pred.extend(pred_class)\n",
    "\n",
    "    baList, statList = [], []\n",
    "  print(ba_Actual, ba_Pred)\n",
    "  PearsonR, MSE = get_metrics(ba_Actual, ba_Pred, 0)\n",
    "  print(\"-------------------------------------------------------------\")\n",
    "  precision, recall, specificity, NPV, MCC = get_metrics(stat_Actual, stat_Pred, 1)\n",
    "  # for idx, trueIndex in enumerate(val_dataset_idx):\n",
    "  #   row = [str(trueIndex), str(stat_Actual[idx]), str(stat_Pred[idx]), str(ba_Actual[idx]), str(ba_Pred[idx])]\n",
    "  #   print(row)\n",
    "  #   writer.writerow(row)\n",
    "  # csvfile.close()\n",
    "  return PearsonR, MSE, precision, recall, specificity, NPV, MCC, ba_Actual, ba_Pred, stat_Actual, stat_Pred"
   ]
  },
  {
   "cell_type": "markdown",
   "metadata": {
    "id": "qWzysdV7jKuA"
   },
   "source": [
    "## Get Train"
   ]
  },
  {
   "cell_type": "code",
   "execution_count": 86,
   "metadata": {
    "id": "L_C02JqijJfe"
   },
   "outputs": [],
   "source": [
    "def model_train_dataset(model: keras.Model, train_dataset_idx, val_dataset_idx, protein_folder, label_folder, label_list, batch_size, epochs, save_path, best_path):\n",
    "  dataset_len = len(train_dataset_idx)\n",
    "  runs = dataset_len // batch_size\n",
    "  last_batch = dataset_len - batch_size*runs\n",
    "  cur = 1\n",
    "  # PearsonR, MSE, RMSE, precision, recall, auc, f1_score, MCC = 0,0,0,0,0,0,0,0\n",
    "  # checkPearsonR, checkMCC, checkRMSE = 0,0,999\n",
    "  log_txt = \"log.txt\"\n",
    "  log_path = os.path.join(save_path, log_txt)\n",
    "  readline = ''\n",
    "  if os.path.exists(log_path):\n",
    "    log_file = open(log_path,\"r+\")\n",
    "    readline = log_file.readline()\n",
    "    log_file.close()\n",
    "  else:\n",
    "    with open(log_path, 'w+') as f:\n",
    "      f.write('0/'+str(runs))\n",
    "      f.close()\n",
    "\n",
    "  if readline == '' or int(readline.split('/')[0]) > runs or int(readline.split('/')[0]) == 0:\n",
    "    cur = 1\n",
    "    model.save(save_path + '.keras')\n",
    "  else:\n",
    "    cur = int(readline.split('/')[0])\n",
    "\n",
    "  check = 0\n",
    "\n",
    "  print(\"----------------------- Start TrainDataset ------------------------\")\n",
    "  for i in range(int(cur-1),int(runs+1)):\n",
    "    print(\"=======================Batch \"+ str(i+1)+\"==============================\")\n",
    "    model = keras.models.load_model(save_path + '.keras')\n",
    "    print(\"Get dataset\")\n",
    "    # get_data_batch(dataset_idx, protein_folder, ligand_folder, ligand_list, label_folder, label_list, batch_size, index)\n",
    "    # get_data_batch(train_list_IDs, protein_folder, ligand_folder, ligand_list, label_folder, label_list, 32, 0)\n",
    "    if i != runs+1:\n",
    "      gridList, baList, statList = get_data_batch(train_dataset_idx, protein_folder, ligand_folder, ligand_list, label_folder, label_list, batch_size, i)\n",
    "    else:\n",
    "      gridList, baList, statList = get_data_batch(train_dataset_idx, protein_folder, ligand_folder, ligand_list, label_folder, label_list, last_batch, i)\n",
    "    \n",
    "    if len(gridList) == 0 or len(baList) == 0 or len(statList) == 0:\n",
    "      raise ValueError(f'Empty List: gridList: {len(gridList)}, baList: {len(baList)}, statList: {len(statList)}')\n",
    "    print(\"----------------------- Train TrainDataset ------------------------\")\n",
    "    model.fit(gridList, [baList, statList], epochs= epochs,verbose=0)\n",
    "    gridList, baList, statList = [], [], []\n",
    "    # PearsonR, MSE, RMSE, precision, recall, auc, f1_score, MCC = model_val_dataset(val_dataset_idx, protein_folder, label_folder, label_list, batch_size, epochs, save_path, best_path)\n",
    "    print(\"Save\")\n",
    "    model.save(save_path+'.keras')\n",
    "    log_file = open(log_path,\"r+\")\n",
    "    readline = log_file.write(str(i)+'/'+str(runs))\n",
    "    log_file.close()\n",
    "    # if PearsonR > checkPearsonR and MCC > checkMCC and RMSE < checkRMSE:\n",
    "    #   model.save(best_path)\n",
    "    #   checkPearsonR = PearsonR\n",
    "    #   checkMCC = MCC\n",
    "    #   checkRMSE = RMSE\n",
    "    if check == 0 and batch_size*i >= 2000:\n",
    "      check +=1\n",
    "      model.save(best_path + '.keras')\n",
    "  return model"
   ]
  },
  {
   "cell_type": "markdown",
   "metadata": {
    "id": "tuE1TdD3jNI2"
   },
   "source": [
    "## Get Model"
   ]
  },
  {
   "cell_type": "code",
   "execution_count": 87,
   "metadata": {
    "id": "urGW5KjLjJbR"
   },
   "outputs": [],
   "source": [
    "# def combine_embedding(drop_rate, input_shape= (60,60,60,14)):\n",
    "#   inp = Input(shape= input_shape, name='Input_Complexes')\n",
    "\n",
    "#   # Classification\n",
    "\n",
    "#   ## Check there are atoms\n",
    "#   x1 = Conv3D(64, (3, 3, 3), padding='same', bias_initializer='zeros', kernel_initializer='glorot_uniform')(inp)\n",
    "#   x1 = BatchNormalization()(x1)\n",
    "#   x1 = Activation('relu')(x1)\n",
    "#   # x1 = MaxPooling3D(padding='same')(x1)\n",
    "#   x1 = MaxPooling3D(strides= (2, 2, 2), padding='same')(x1)\n",
    "\n",
    "\n",
    "#   x1 = Conv3D(128, (3, 3, 3), padding='same', bias_initializer='zeros', kernel_initializer='glorot_uniform')(x1)\n",
    "#   x1 = BatchNormalization()(x1)\n",
    "#   x1 = Activation('relu')(x1)\n",
    "#   x1 = AveragePooling3D(padding='same')(x1)\n",
    "\n",
    "#   x1 = Conv3D(256, (3, 3, 3), padding='same', bias_initializer='zeros', kernel_initializer='glorot_uniform')(x1)\n",
    "#   x1 = Activation('relu')(x1)\n",
    "#   x1 = BatchNormalization()(x1)\n",
    "#   x1 = AveragePooling3D(padding='same')(x1)\n",
    "\n",
    "#   # x1 = Conv3D(128, (3, 3, 3), padding='same', bias_initializer='zeros', kernel_initializer='glorot_uniform')(x1)\n",
    "#   # x1 = BatchNormalization()(x1)\n",
    "#   # x1 = Activation('relu')(x1)\n",
    "#   # # x1 = AveragePooling3D(padding='same')(x1)\n",
    "#   # x1 = AveragePooling3D(padding='same')(x1)\n",
    "\n",
    "#   x1 = Conv3D(256, (3, 3, 3), padding='same', bias_initializer='zeros', kernel_initializer='glorot_uniform')(x1)\n",
    "#   x1 = BatchNormalization()(x1)\n",
    "#   x1 = Activation('relu')(x1)\n",
    "#   x1 = AveragePooling3D(padding='same')(x1)\n",
    "\n",
    "#   # Global Pooling\n",
    "#   x2 = GlobalAveragePooling3D()(x1)\n",
    "\n",
    "#   x2 = Dense(500, kernel_regularizer='l2', bias_initializer='zeros')(x2)\n",
    "#   x2 = Dropout(rate=drop_rate)(x2)\n",
    "\n",
    "#   # Flattening\n",
    "#   x1 = Flatten()(x1)\n",
    "\n",
    "#   x1 = Dense(4096, kernel_regularizer='l2', bias_initializer='zeros')(x1)\n",
    "#   x1 = Dropout(rate=drop_rate)(x1)\n",
    "\n",
    "#   x1 = Dense(4096, kernel_regularizer='l2', bias_initializer='zeros')(x1)\n",
    "#   x1 = Dropout(rate=drop_rate)(x1)\n",
    "\n",
    "#   x1 = Dense(1000, kernel_regularizer='l2', bias_initializer='zeros')(x1)\n",
    "#   x1 = Dropout(rate=drop_rate)(x1)\n",
    "\n",
    "#   # Regression Output\n",
    "#   d1 = Dense(1, activation='linear')(x1)\n",
    "#   # Classification Output\n",
    "#   d2 = Dense(1, activation='sigmoid')(x2)\n",
    "\n",
    "#   return Model(inputs=[inp], outputs=[d1,d2], name='Embedding')"
   ]
  },
  {
   "cell_type": "code",
   "execution_count": 88,
   "metadata": {
    "id": "wQ1qn386jlaV"
   },
   "outputs": [],
   "source": [
    "def combine_embedding(drop_rate, input_shape= (52,52,52,11)):\n",
    "  inp = Input(shape= input_shape, name='Input_Complexes')\n",
    "\n",
    "  ## Check there are atoms\n",
    "  x1 = Conv3D(filters= 8, kernel_size=(1,1,1), padding='same', bias_initializer='zeros', kernel_initializer='glorot_uniform')(inp)\n",
    "  x1 = BatchNormalization()(x1)\n",
    "  x1 = Activation('relu')(x1)\n",
    "\n",
    "  x1 = Conv3D(8, kernel_size=(3,3,3))(x1)\n",
    "  x1 = BatchNormalization()(x1)\n",
    "  x1 = Activation('relu')(x1)\n",
    "\n",
    "  x1 = Conv3D(32,kernel_size=(3,3,3),padding='same')(x1)\n",
    "  x1 = BatchNormalization()(x1)\n",
    "  x1 = Activation('relu')(x1)\n",
    "  x1 = MaxPooling3D(pool_size=2)(x1)\n",
    "\n",
    "  x1 = Conv3D(64,kernel_size=(1,1,1),padding='same')(x1)\n",
    "  x1 = BatchNormalization()(x1)\n",
    "  x1 = Activation('relu')(x1)\n",
    "\n",
    "  x1 = Conv3D(64,kernel_size=(3,3,3),padding='same')(x1)\n",
    "  x1 = BatchNormalization()(x1)\n",
    "  x1 = Activation('relu')(x1)\n",
    "\n",
    "  x1 = MaxPooling3D(pool_size=2)(x1)\n",
    "\n",
    "  x1 = Conv3D(128,kernel_size=(1,1,1),padding='same')(x1)\n",
    "  x1 = BatchNormalization()(x1)\n",
    "  x1 = Activation('relu')(x1)\n",
    "\n",
    "  x1 = Conv3D(128,kernel_size=(3,3,3),padding='same')(x1)\n",
    "  x1 = BatchNormalization()(x1)\n",
    "  x1 = Activation('relu')(x1)\n",
    "  x1 = MaxPooling3D(pool_size=2)(x1)\n",
    "\n",
    "  x1 = Conv3D(256,kernel_size=(1,1,1),padding='same')(x1)\n",
    "  x1 = BatchNormalization()(x1)\n",
    "  x1 = Activation('relu')(x1)\n",
    "\n",
    "  x1 = Conv3D(256,kernel_size=(3,3,3),padding='same')(x1)\n",
    "  x1 = BatchNormalization()(x1)\n",
    "  x1 = Activation('relu')(x1)\n",
    "  x1 = MaxPooling3D(pool_size=2)(x1)\n",
    "\n",
    "    # Global Pooling\n",
    "  x2 = GlobalAveragePooling3D()(x1)\n",
    "\n",
    "  x2 = Dense(256)(x2)\n",
    "  x2 = BatchNormalization()(x2)\n",
    "  x2 = Activation('relu')(x2)\n",
    "  x2 = Dropout(0.5)(x2)\n",
    "\n",
    "  # Flattening\n",
    "  x1 = Flatten()(x1)\n",
    "\n",
    "  x1 = Dense(256)(x1)\n",
    "  x1 = BatchNormalization()(x1)\n",
    "  x1 = Activation('relu')(x1)\n",
    "  x1 = Dropout(0.5)(x1)\n",
    "\n",
    "  # Regression Output\n",
    "  d1 = Dense(1,kernel_regularizer=keras.regularizers.l2(0.01))(x1)\n",
    "  # Classification Output\n",
    "  d2 = Dense(1, activation='sigmoid')(x2)\n",
    "\n",
    "  return Model(inputs=[inp], outputs=[d1,d2], name='Embedding')"
   ]
  },
  {
   "cell_type": "markdown",
   "metadata": {
    "id": "ISK3nbg4oOg1"
   },
   "source": [
    "## Create model"
   ]
  },
  {
   "cell_type": "code",
   "execution_count": 89,
   "metadata": {
    "id": "BYiqo_PZrsii"
   },
   "outputs": [],
   "source": [
    "fake_grid, x,y,z = set_grid('./protein/3qzq.pdb')"
   ]
  },
  {
   "cell_type": "code",
   "execution_count": 90,
   "metadata": {
    "colab": {
     "base_uri": "https://localhost:8080/"
    },
    "id": "I8hfV4aeJUiR",
    "outputId": "3c27ecf8-a623-4dde-84ce-988f3354773c"
   },
   "outputs": [
    {
     "data": {
      "text/plain": [
       "(52, 52, 52, 14)"
      ]
     },
     "execution_count": 90,
     "metadata": {},
     "output_type": "execute_result"
    }
   ],
   "source": [
    "np.shape(fake_grid)"
   ]
  },
  {
   "cell_type": "code",
   "execution_count": 91,
   "metadata": {
    "colab": {
     "base_uri": "https://localhost:8080/"
    },
    "id": "lLzm4J2zoOQF",
    "outputId": "55ada0ed-81cc-4004-f91f-b814c6c2d112"
   },
   "outputs": [
    {
     "data": {
      "text/plain": [
       "(52, 52, 52, 14)"
      ]
     },
     "execution_count": 91,
     "metadata": {},
     "output_type": "execute_result"
    }
   ],
   "source": [
    "shape = np.shape(fake_grid)\n",
    "shape"
   ]
  },
  {
   "cell_type": "code",
   "execution_count": 92,
   "metadata": {
    "colab": {
     "base_uri": "https://localhost:8080/"
    },
    "id": "dATrMkDnJk0u",
    "outputId": "04848e4d-6cdf-48ee-e297-4f89ed9221fb"
   },
   "outputs": [
    {
     "data": {
      "text/html": [
       "<pre style=\"white-space:pre;overflow-x:auto;line-height:normal;font-family:Menlo,'DejaVu Sans Mono',consolas,'Courier New',monospace\"><span style=\"font-weight: bold\">Model: \"Embedding\"</span>\n",
       "</pre>\n"
      ],
      "text/plain": [
       "\u001b[1mModel: \"Embedding\"\u001b[0m\n"
      ]
     },
     "metadata": {},
     "output_type": "display_data"
    },
    {
     "data": {
      "text/html": [
       "<pre style=\"white-space:pre;overflow-x:auto;line-height:normal;font-family:Menlo,'DejaVu Sans Mono',consolas,'Courier New',monospace\">┏━━━━━━━━━━━━━━━━━━━━━┳━━━━━━━━━━━━━━━━━━━┳━━━━━━━━━━━━┳━━━━━━━━━━━━━━━━━━━┓\n",
       "┃<span style=\"font-weight: bold\"> Layer (type)        </span>┃<span style=\"font-weight: bold\"> Output Shape      </span>┃<span style=\"font-weight: bold\">    Param # </span>┃<span style=\"font-weight: bold\"> Connected to      </span>┃\n",
       "┡━━━━━━━━━━━━━━━━━━━━━╇━━━━━━━━━━━━━━━━━━━╇━━━━━━━━━━━━╇━━━━━━━━━━━━━━━━━━━┩\n",
       "│ Input_Complexes     │ (<span style=\"color: #00d7ff; text-decoration-color: #00d7ff\">None</span>, <span style=\"color: #00af00; text-decoration-color: #00af00\">52</span>, <span style=\"color: #00af00; text-decoration-color: #00af00\">52</span>,    │          <span style=\"color: #00af00; text-decoration-color: #00af00\">0</span> │ -                 │\n",
       "│ (<span style=\"color: #0087ff; text-decoration-color: #0087ff\">InputLayer</span>)        │ <span style=\"color: #00af00; text-decoration-color: #00af00\">52</span>, <span style=\"color: #00af00; text-decoration-color: #00af00\">14</span>)           │            │                   │\n",
       "├─────────────────────┼───────────────────┼────────────┼───────────────────┤\n",
       "│ conv3d_9 (<span style=\"color: #0087ff; text-decoration-color: #0087ff\">Conv3D</span>)   │ (<span style=\"color: #00d7ff; text-decoration-color: #00d7ff\">None</span>, <span style=\"color: #00af00; text-decoration-color: #00af00\">52</span>, <span style=\"color: #00af00; text-decoration-color: #00af00\">52</span>,    │        <span style=\"color: #00af00; text-decoration-color: #00af00\">120</span> │ Input_Complexes[<span style=\"color: #00af00; text-decoration-color: #00af00\">…</span> │\n",
       "│                     │ <span style=\"color: #00af00; text-decoration-color: #00af00\">52</span>, <span style=\"color: #00af00; text-decoration-color: #00af00\">8</span>)            │            │                   │\n",
       "├─────────────────────┼───────────────────┼────────────┼───────────────────┤\n",
       "│ batch_normalizatio… │ (<span style=\"color: #00d7ff; text-decoration-color: #00d7ff\">None</span>, <span style=\"color: #00af00; text-decoration-color: #00af00\">52</span>, <span style=\"color: #00af00; text-decoration-color: #00af00\">52</span>,    │         <span style=\"color: #00af00; text-decoration-color: #00af00\">32</span> │ conv3d_9[<span style=\"color: #00af00; text-decoration-color: #00af00\">0</span>][<span style=\"color: #00af00; text-decoration-color: #00af00\">0</span>]    │\n",
       "│ (<span style=\"color: #0087ff; text-decoration-color: #0087ff\">BatchNormalizatio…</span> │ <span style=\"color: #00af00; text-decoration-color: #00af00\">52</span>, <span style=\"color: #00af00; text-decoration-color: #00af00\">8</span>)            │            │                   │\n",
       "├─────────────────────┼───────────────────┼────────────┼───────────────────┤\n",
       "│ activation_11       │ (<span style=\"color: #00d7ff; text-decoration-color: #00d7ff\">None</span>, <span style=\"color: #00af00; text-decoration-color: #00af00\">52</span>, <span style=\"color: #00af00; text-decoration-color: #00af00\">52</span>,    │          <span style=\"color: #00af00; text-decoration-color: #00af00\">0</span> │ batch_normalizat… │\n",
       "│ (<span style=\"color: #0087ff; text-decoration-color: #0087ff\">Activation</span>)        │ <span style=\"color: #00af00; text-decoration-color: #00af00\">52</span>, <span style=\"color: #00af00; text-decoration-color: #00af00\">8</span>)            │            │                   │\n",
       "├─────────────────────┼───────────────────┼────────────┼───────────────────┤\n",
       "│ conv3d_10 (<span style=\"color: #0087ff; text-decoration-color: #0087ff\">Conv3D</span>)  │ (<span style=\"color: #00d7ff; text-decoration-color: #00d7ff\">None</span>, <span style=\"color: #00af00; text-decoration-color: #00af00\">50</span>, <span style=\"color: #00af00; text-decoration-color: #00af00\">50</span>,    │      <span style=\"color: #00af00; text-decoration-color: #00af00\">1,736</span> │ activation_11[<span style=\"color: #00af00; text-decoration-color: #00af00\">0</span>]… │\n",
       "│                     │ <span style=\"color: #00af00; text-decoration-color: #00af00\">50</span>, <span style=\"color: #00af00; text-decoration-color: #00af00\">8</span>)            │            │                   │\n",
       "├─────────────────────┼───────────────────┼────────────┼───────────────────┤\n",
       "│ batch_normalizatio… │ (<span style=\"color: #00d7ff; text-decoration-color: #00d7ff\">None</span>, <span style=\"color: #00af00; text-decoration-color: #00af00\">50</span>, <span style=\"color: #00af00; text-decoration-color: #00af00\">50</span>,    │         <span style=\"color: #00af00; text-decoration-color: #00af00\">32</span> │ conv3d_10[<span style=\"color: #00af00; text-decoration-color: #00af00\">0</span>][<span style=\"color: #00af00; text-decoration-color: #00af00\">0</span>]   │\n",
       "│ (<span style=\"color: #0087ff; text-decoration-color: #0087ff\">BatchNormalizatio…</span> │ <span style=\"color: #00af00; text-decoration-color: #00af00\">50</span>, <span style=\"color: #00af00; text-decoration-color: #00af00\">8</span>)            │            │                   │\n",
       "├─────────────────────┼───────────────────┼────────────┼───────────────────┤\n",
       "│ activation_12       │ (<span style=\"color: #00d7ff; text-decoration-color: #00d7ff\">None</span>, <span style=\"color: #00af00; text-decoration-color: #00af00\">50</span>, <span style=\"color: #00af00; text-decoration-color: #00af00\">50</span>,    │          <span style=\"color: #00af00; text-decoration-color: #00af00\">0</span> │ batch_normalizat… │\n",
       "│ (<span style=\"color: #0087ff; text-decoration-color: #0087ff\">Activation</span>)        │ <span style=\"color: #00af00; text-decoration-color: #00af00\">50</span>, <span style=\"color: #00af00; text-decoration-color: #00af00\">8</span>)            │            │                   │\n",
       "├─────────────────────┼───────────────────┼────────────┼───────────────────┤\n",
       "│ conv3d_11 (<span style=\"color: #0087ff; text-decoration-color: #0087ff\">Conv3D</span>)  │ (<span style=\"color: #00d7ff; text-decoration-color: #00d7ff\">None</span>, <span style=\"color: #00af00; text-decoration-color: #00af00\">50</span>, <span style=\"color: #00af00; text-decoration-color: #00af00\">50</span>,    │      <span style=\"color: #00af00; text-decoration-color: #00af00\">6,944</span> │ activation_12[<span style=\"color: #00af00; text-decoration-color: #00af00\">0</span>]… │\n",
       "│                     │ <span style=\"color: #00af00; text-decoration-color: #00af00\">50</span>, <span style=\"color: #00af00; text-decoration-color: #00af00\">32</span>)           │            │                   │\n",
       "├─────────────────────┼───────────────────┼────────────┼───────────────────┤\n",
       "│ batch_normalizatio… │ (<span style=\"color: #00d7ff; text-decoration-color: #00d7ff\">None</span>, <span style=\"color: #00af00; text-decoration-color: #00af00\">50</span>, <span style=\"color: #00af00; text-decoration-color: #00af00\">50</span>,    │        <span style=\"color: #00af00; text-decoration-color: #00af00\">128</span> │ conv3d_11[<span style=\"color: #00af00; text-decoration-color: #00af00\">0</span>][<span style=\"color: #00af00; text-decoration-color: #00af00\">0</span>]   │\n",
       "│ (<span style=\"color: #0087ff; text-decoration-color: #0087ff\">BatchNormalizatio…</span> │ <span style=\"color: #00af00; text-decoration-color: #00af00\">50</span>, <span style=\"color: #00af00; text-decoration-color: #00af00\">32</span>)           │            │                   │\n",
       "├─────────────────────┼───────────────────┼────────────┼───────────────────┤\n",
       "│ activation_13       │ (<span style=\"color: #00d7ff; text-decoration-color: #00d7ff\">None</span>, <span style=\"color: #00af00; text-decoration-color: #00af00\">50</span>, <span style=\"color: #00af00; text-decoration-color: #00af00\">50</span>,    │          <span style=\"color: #00af00; text-decoration-color: #00af00\">0</span> │ batch_normalizat… │\n",
       "│ (<span style=\"color: #0087ff; text-decoration-color: #0087ff\">Activation</span>)        │ <span style=\"color: #00af00; text-decoration-color: #00af00\">50</span>, <span style=\"color: #00af00; text-decoration-color: #00af00\">32</span>)           │            │                   │\n",
       "├─────────────────────┼───────────────────┼────────────┼───────────────────┤\n",
       "│ max_pooling3d_4     │ (<span style=\"color: #00d7ff; text-decoration-color: #00d7ff\">None</span>, <span style=\"color: #00af00; text-decoration-color: #00af00\">25</span>, <span style=\"color: #00af00; text-decoration-color: #00af00\">25</span>,    │          <span style=\"color: #00af00; text-decoration-color: #00af00\">0</span> │ activation_13[<span style=\"color: #00af00; text-decoration-color: #00af00\">0</span>]… │\n",
       "│ (<span style=\"color: #0087ff; text-decoration-color: #0087ff\">MaxPooling3D</span>)      │ <span style=\"color: #00af00; text-decoration-color: #00af00\">25</span>, <span style=\"color: #00af00; text-decoration-color: #00af00\">32</span>)           │            │                   │\n",
       "├─────────────────────┼───────────────────┼────────────┼───────────────────┤\n",
       "│ conv3d_12 (<span style=\"color: #0087ff; text-decoration-color: #0087ff\">Conv3D</span>)  │ (<span style=\"color: #00d7ff; text-decoration-color: #00d7ff\">None</span>, <span style=\"color: #00af00; text-decoration-color: #00af00\">25</span>, <span style=\"color: #00af00; text-decoration-color: #00af00\">25</span>,    │      <span style=\"color: #00af00; text-decoration-color: #00af00\">2,112</span> │ max_pooling3d_4[<span style=\"color: #00af00; text-decoration-color: #00af00\">…</span> │\n",
       "│                     │ <span style=\"color: #00af00; text-decoration-color: #00af00\">25</span>, <span style=\"color: #00af00; text-decoration-color: #00af00\">64</span>)           │            │                   │\n",
       "├─────────────────────┼───────────────────┼────────────┼───────────────────┤\n",
       "│ batch_normalizatio… │ (<span style=\"color: #00d7ff; text-decoration-color: #00d7ff\">None</span>, <span style=\"color: #00af00; text-decoration-color: #00af00\">25</span>, <span style=\"color: #00af00; text-decoration-color: #00af00\">25</span>,    │        <span style=\"color: #00af00; text-decoration-color: #00af00\">256</span> │ conv3d_12[<span style=\"color: #00af00; text-decoration-color: #00af00\">0</span>][<span style=\"color: #00af00; text-decoration-color: #00af00\">0</span>]   │\n",
       "│ (<span style=\"color: #0087ff; text-decoration-color: #0087ff\">BatchNormalizatio…</span> │ <span style=\"color: #00af00; text-decoration-color: #00af00\">25</span>, <span style=\"color: #00af00; text-decoration-color: #00af00\">64</span>)           │            │                   │\n",
       "├─────────────────────┼───────────────────┼────────────┼───────────────────┤\n",
       "│ activation_14       │ (<span style=\"color: #00d7ff; text-decoration-color: #00d7ff\">None</span>, <span style=\"color: #00af00; text-decoration-color: #00af00\">25</span>, <span style=\"color: #00af00; text-decoration-color: #00af00\">25</span>,    │          <span style=\"color: #00af00; text-decoration-color: #00af00\">0</span> │ batch_normalizat… │\n",
       "│ (<span style=\"color: #0087ff; text-decoration-color: #0087ff\">Activation</span>)        │ <span style=\"color: #00af00; text-decoration-color: #00af00\">25</span>, <span style=\"color: #00af00; text-decoration-color: #00af00\">64</span>)           │            │                   │\n",
       "├─────────────────────┼───────────────────┼────────────┼───────────────────┤\n",
       "│ conv3d_13 (<span style=\"color: #0087ff; text-decoration-color: #0087ff\">Conv3D</span>)  │ (<span style=\"color: #00d7ff; text-decoration-color: #00d7ff\">None</span>, <span style=\"color: #00af00; text-decoration-color: #00af00\">25</span>, <span style=\"color: #00af00; text-decoration-color: #00af00\">25</span>,    │    <span style=\"color: #00af00; text-decoration-color: #00af00\">110,656</span> │ activation_14[<span style=\"color: #00af00; text-decoration-color: #00af00\">0</span>]… │\n",
       "│                     │ <span style=\"color: #00af00; text-decoration-color: #00af00\">25</span>, <span style=\"color: #00af00; text-decoration-color: #00af00\">64</span>)           │            │                   │\n",
       "├─────────────────────┼───────────────────┼────────────┼───────────────────┤\n",
       "│ batch_normalizatio… │ (<span style=\"color: #00d7ff; text-decoration-color: #00d7ff\">None</span>, <span style=\"color: #00af00; text-decoration-color: #00af00\">25</span>, <span style=\"color: #00af00; text-decoration-color: #00af00\">25</span>,    │        <span style=\"color: #00af00; text-decoration-color: #00af00\">256</span> │ conv3d_13[<span style=\"color: #00af00; text-decoration-color: #00af00\">0</span>][<span style=\"color: #00af00; text-decoration-color: #00af00\">0</span>]   │\n",
       "│ (<span style=\"color: #0087ff; text-decoration-color: #0087ff\">BatchNormalizatio…</span> │ <span style=\"color: #00af00; text-decoration-color: #00af00\">25</span>, <span style=\"color: #00af00; text-decoration-color: #00af00\">64</span>)           │            │                   │\n",
       "├─────────────────────┼───────────────────┼────────────┼───────────────────┤\n",
       "│ activation_15       │ (<span style=\"color: #00d7ff; text-decoration-color: #00d7ff\">None</span>, <span style=\"color: #00af00; text-decoration-color: #00af00\">25</span>, <span style=\"color: #00af00; text-decoration-color: #00af00\">25</span>,    │          <span style=\"color: #00af00; text-decoration-color: #00af00\">0</span> │ batch_normalizat… │\n",
       "│ (<span style=\"color: #0087ff; text-decoration-color: #0087ff\">Activation</span>)        │ <span style=\"color: #00af00; text-decoration-color: #00af00\">25</span>, <span style=\"color: #00af00; text-decoration-color: #00af00\">64</span>)           │            │                   │\n",
       "├─────────────────────┼───────────────────┼────────────┼───────────────────┤\n",
       "│ max_pooling3d_5     │ (<span style=\"color: #00d7ff; text-decoration-color: #00d7ff\">None</span>, <span style=\"color: #00af00; text-decoration-color: #00af00\">12</span>, <span style=\"color: #00af00; text-decoration-color: #00af00\">12</span>,    │          <span style=\"color: #00af00; text-decoration-color: #00af00\">0</span> │ activation_15[<span style=\"color: #00af00; text-decoration-color: #00af00\">0</span>]… │\n",
       "│ (<span style=\"color: #0087ff; text-decoration-color: #0087ff\">MaxPooling3D</span>)      │ <span style=\"color: #00af00; text-decoration-color: #00af00\">12</span>, <span style=\"color: #00af00; text-decoration-color: #00af00\">64</span>)           │            │                   │\n",
       "├─────────────────────┼───────────────────┼────────────┼───────────────────┤\n",
       "│ conv3d_14 (<span style=\"color: #0087ff; text-decoration-color: #0087ff\">Conv3D</span>)  │ (<span style=\"color: #00d7ff; text-decoration-color: #00d7ff\">None</span>, <span style=\"color: #00af00; text-decoration-color: #00af00\">12</span>, <span style=\"color: #00af00; text-decoration-color: #00af00\">12</span>,    │      <span style=\"color: #00af00; text-decoration-color: #00af00\">8,320</span> │ max_pooling3d_5[<span style=\"color: #00af00; text-decoration-color: #00af00\">…</span> │\n",
       "│                     │ <span style=\"color: #00af00; text-decoration-color: #00af00\">12</span>, <span style=\"color: #00af00; text-decoration-color: #00af00\">128</span>)          │            │                   │\n",
       "├─────────────────────┼───────────────────┼────────────┼───────────────────┤\n",
       "│ batch_normalizatio… │ (<span style=\"color: #00d7ff; text-decoration-color: #00d7ff\">None</span>, <span style=\"color: #00af00; text-decoration-color: #00af00\">12</span>, <span style=\"color: #00af00; text-decoration-color: #00af00\">12</span>,    │        <span style=\"color: #00af00; text-decoration-color: #00af00\">512</span> │ conv3d_14[<span style=\"color: #00af00; text-decoration-color: #00af00\">0</span>][<span style=\"color: #00af00; text-decoration-color: #00af00\">0</span>]   │\n",
       "│ (<span style=\"color: #0087ff; text-decoration-color: #0087ff\">BatchNormalizatio…</span> │ <span style=\"color: #00af00; text-decoration-color: #00af00\">12</span>, <span style=\"color: #00af00; text-decoration-color: #00af00\">128</span>)          │            │                   │\n",
       "├─────────────────────┼───────────────────┼────────────┼───────────────────┤\n",
       "│ activation_16       │ (<span style=\"color: #00d7ff; text-decoration-color: #00d7ff\">None</span>, <span style=\"color: #00af00; text-decoration-color: #00af00\">12</span>, <span style=\"color: #00af00; text-decoration-color: #00af00\">12</span>,    │          <span style=\"color: #00af00; text-decoration-color: #00af00\">0</span> │ batch_normalizat… │\n",
       "│ (<span style=\"color: #0087ff; text-decoration-color: #0087ff\">Activation</span>)        │ <span style=\"color: #00af00; text-decoration-color: #00af00\">12</span>, <span style=\"color: #00af00; text-decoration-color: #00af00\">128</span>)          │            │                   │\n",
       "├─────────────────────┼───────────────────┼────────────┼───────────────────┤\n",
       "│ conv3d_15 (<span style=\"color: #0087ff; text-decoration-color: #0087ff\">Conv3D</span>)  │ (<span style=\"color: #00d7ff; text-decoration-color: #00d7ff\">None</span>, <span style=\"color: #00af00; text-decoration-color: #00af00\">12</span>, <span style=\"color: #00af00; text-decoration-color: #00af00\">12</span>,    │    <span style=\"color: #00af00; text-decoration-color: #00af00\">442,496</span> │ activation_16[<span style=\"color: #00af00; text-decoration-color: #00af00\">0</span>]… │\n",
       "│                     │ <span style=\"color: #00af00; text-decoration-color: #00af00\">12</span>, <span style=\"color: #00af00; text-decoration-color: #00af00\">128</span>)          │            │                   │\n",
       "├─────────────────────┼───────────────────┼────────────┼───────────────────┤\n",
       "│ batch_normalizatio… │ (<span style=\"color: #00d7ff; text-decoration-color: #00d7ff\">None</span>, <span style=\"color: #00af00; text-decoration-color: #00af00\">12</span>, <span style=\"color: #00af00; text-decoration-color: #00af00\">12</span>,    │        <span style=\"color: #00af00; text-decoration-color: #00af00\">512</span> │ conv3d_15[<span style=\"color: #00af00; text-decoration-color: #00af00\">0</span>][<span style=\"color: #00af00; text-decoration-color: #00af00\">0</span>]   │\n",
       "│ (<span style=\"color: #0087ff; text-decoration-color: #0087ff\">BatchNormalizatio…</span> │ <span style=\"color: #00af00; text-decoration-color: #00af00\">12</span>, <span style=\"color: #00af00; text-decoration-color: #00af00\">128</span>)          │            │                   │\n",
       "├─────────────────────┼───────────────────┼────────────┼───────────────────┤\n",
       "│ activation_17       │ (<span style=\"color: #00d7ff; text-decoration-color: #00d7ff\">None</span>, <span style=\"color: #00af00; text-decoration-color: #00af00\">12</span>, <span style=\"color: #00af00; text-decoration-color: #00af00\">12</span>,    │          <span style=\"color: #00af00; text-decoration-color: #00af00\">0</span> │ batch_normalizat… │\n",
       "│ (<span style=\"color: #0087ff; text-decoration-color: #0087ff\">Activation</span>)        │ <span style=\"color: #00af00; text-decoration-color: #00af00\">12</span>, <span style=\"color: #00af00; text-decoration-color: #00af00\">128</span>)          │            │                   │\n",
       "├─────────────────────┼───────────────────┼────────────┼───────────────────┤\n",
       "│ max_pooling3d_6     │ (<span style=\"color: #00d7ff; text-decoration-color: #00d7ff\">None</span>, <span style=\"color: #00af00; text-decoration-color: #00af00\">6</span>, <span style=\"color: #00af00; text-decoration-color: #00af00\">6</span>, <span style=\"color: #00af00; text-decoration-color: #00af00\">6</span>,   │          <span style=\"color: #00af00; text-decoration-color: #00af00\">0</span> │ activation_17[<span style=\"color: #00af00; text-decoration-color: #00af00\">0</span>]… │\n",
       "│ (<span style=\"color: #0087ff; text-decoration-color: #0087ff\">MaxPooling3D</span>)      │ <span style=\"color: #00af00; text-decoration-color: #00af00\">128</span>)              │            │                   │\n",
       "├─────────────────────┼───────────────────┼────────────┼───────────────────┤\n",
       "│ conv3d_16 (<span style=\"color: #0087ff; text-decoration-color: #0087ff\">Conv3D</span>)  │ (<span style=\"color: #00d7ff; text-decoration-color: #00d7ff\">None</span>, <span style=\"color: #00af00; text-decoration-color: #00af00\">6</span>, <span style=\"color: #00af00; text-decoration-color: #00af00\">6</span>, <span style=\"color: #00af00; text-decoration-color: #00af00\">6</span>,   │     <span style=\"color: #00af00; text-decoration-color: #00af00\">33,024</span> │ max_pooling3d_6[<span style=\"color: #00af00; text-decoration-color: #00af00\">…</span> │\n",
       "│                     │ <span style=\"color: #00af00; text-decoration-color: #00af00\">256</span>)              │            │                   │\n",
       "├─────────────────────┼───────────────────┼────────────┼───────────────────┤\n",
       "│ batch_normalizatio… │ (<span style=\"color: #00d7ff; text-decoration-color: #00d7ff\">None</span>, <span style=\"color: #00af00; text-decoration-color: #00af00\">6</span>, <span style=\"color: #00af00; text-decoration-color: #00af00\">6</span>, <span style=\"color: #00af00; text-decoration-color: #00af00\">6</span>,   │      <span style=\"color: #00af00; text-decoration-color: #00af00\">1,024</span> │ conv3d_16[<span style=\"color: #00af00; text-decoration-color: #00af00\">0</span>][<span style=\"color: #00af00; text-decoration-color: #00af00\">0</span>]   │\n",
       "│ (<span style=\"color: #0087ff; text-decoration-color: #0087ff\">BatchNormalizatio…</span> │ <span style=\"color: #00af00; text-decoration-color: #00af00\">256</span>)              │            │                   │\n",
       "├─────────────────────┼───────────────────┼────────────┼───────────────────┤\n",
       "│ activation_18       │ (<span style=\"color: #00d7ff; text-decoration-color: #00d7ff\">None</span>, <span style=\"color: #00af00; text-decoration-color: #00af00\">6</span>, <span style=\"color: #00af00; text-decoration-color: #00af00\">6</span>, <span style=\"color: #00af00; text-decoration-color: #00af00\">6</span>,   │          <span style=\"color: #00af00; text-decoration-color: #00af00\">0</span> │ batch_normalizat… │\n",
       "│ (<span style=\"color: #0087ff; text-decoration-color: #0087ff\">Activation</span>)        │ <span style=\"color: #00af00; text-decoration-color: #00af00\">256</span>)              │            │                   │\n",
       "├─────────────────────┼───────────────────┼────────────┼───────────────────┤\n",
       "│ conv3d_17 (<span style=\"color: #0087ff; text-decoration-color: #0087ff\">Conv3D</span>)  │ (<span style=\"color: #00d7ff; text-decoration-color: #00d7ff\">None</span>, <span style=\"color: #00af00; text-decoration-color: #00af00\">6</span>, <span style=\"color: #00af00; text-decoration-color: #00af00\">6</span>, <span style=\"color: #00af00; text-decoration-color: #00af00\">6</span>,   │  <span style=\"color: #00af00; text-decoration-color: #00af00\">1,769,728</span> │ activation_18[<span style=\"color: #00af00; text-decoration-color: #00af00\">0</span>]… │\n",
       "│                     │ <span style=\"color: #00af00; text-decoration-color: #00af00\">256</span>)              │            │                   │\n",
       "├─────────────────────┼───────────────────┼────────────┼───────────────────┤\n",
       "│ batch_normalizatio… │ (<span style=\"color: #00d7ff; text-decoration-color: #00d7ff\">None</span>, <span style=\"color: #00af00; text-decoration-color: #00af00\">6</span>, <span style=\"color: #00af00; text-decoration-color: #00af00\">6</span>, <span style=\"color: #00af00; text-decoration-color: #00af00\">6</span>,   │      <span style=\"color: #00af00; text-decoration-color: #00af00\">1,024</span> │ conv3d_17[<span style=\"color: #00af00; text-decoration-color: #00af00\">0</span>][<span style=\"color: #00af00; text-decoration-color: #00af00\">0</span>]   │\n",
       "│ (<span style=\"color: #0087ff; text-decoration-color: #0087ff\">BatchNormalizatio…</span> │ <span style=\"color: #00af00; text-decoration-color: #00af00\">256</span>)              │            │                   │\n",
       "├─────────────────────┼───────────────────┼────────────┼───────────────────┤\n",
       "│ activation_19       │ (<span style=\"color: #00d7ff; text-decoration-color: #00d7ff\">None</span>, <span style=\"color: #00af00; text-decoration-color: #00af00\">6</span>, <span style=\"color: #00af00; text-decoration-color: #00af00\">6</span>, <span style=\"color: #00af00; text-decoration-color: #00af00\">6</span>,   │          <span style=\"color: #00af00; text-decoration-color: #00af00\">0</span> │ batch_normalizat… │\n",
       "│ (<span style=\"color: #0087ff; text-decoration-color: #0087ff\">Activation</span>)        │ <span style=\"color: #00af00; text-decoration-color: #00af00\">256</span>)              │            │                   │\n",
       "├─────────────────────┼───────────────────┼────────────┼───────────────────┤\n",
       "│ max_pooling3d_7     │ (<span style=\"color: #00d7ff; text-decoration-color: #00d7ff\">None</span>, <span style=\"color: #00af00; text-decoration-color: #00af00\">3</span>, <span style=\"color: #00af00; text-decoration-color: #00af00\">3</span>, <span style=\"color: #00af00; text-decoration-color: #00af00\">3</span>,   │          <span style=\"color: #00af00; text-decoration-color: #00af00\">0</span> │ activation_19[<span style=\"color: #00af00; text-decoration-color: #00af00\">0</span>]… │\n",
       "│ (<span style=\"color: #0087ff; text-decoration-color: #0087ff\">MaxPooling3D</span>)      │ <span style=\"color: #00af00; text-decoration-color: #00af00\">256</span>)              │            │                   │\n",
       "├─────────────────────┼───────────────────┼────────────┼───────────────────┤\n",
       "│ flatten_1 (<span style=\"color: #0087ff; text-decoration-color: #0087ff\">Flatten</span>) │ (<span style=\"color: #00d7ff; text-decoration-color: #00d7ff\">None</span>, <span style=\"color: #00af00; text-decoration-color: #00af00\">6912</span>)      │          <span style=\"color: #00af00; text-decoration-color: #00af00\">0</span> │ max_pooling3d_7[<span style=\"color: #00af00; text-decoration-color: #00af00\">…</span> │\n",
       "├─────────────────────┼───────────────────┼────────────┼───────────────────┤\n",
       "│ global_average_poo… │ (<span style=\"color: #00d7ff; text-decoration-color: #00d7ff\">None</span>, <span style=\"color: #00af00; text-decoration-color: #00af00\">256</span>)       │          <span style=\"color: #00af00; text-decoration-color: #00af00\">0</span> │ max_pooling3d_7[<span style=\"color: #00af00; text-decoration-color: #00af00\">…</span> │\n",
       "│ (<span style=\"color: #0087ff; text-decoration-color: #0087ff\">GlobalAveragePool…</span> │                   │            │                   │\n",
       "├─────────────────────┼───────────────────┼────────────┼───────────────────┤\n",
       "│ dense_5 (<span style=\"color: #0087ff; text-decoration-color: #0087ff\">Dense</span>)     │ (<span style=\"color: #00d7ff; text-decoration-color: #00d7ff\">None</span>, <span style=\"color: #00af00; text-decoration-color: #00af00\">256</span>)       │  <span style=\"color: #00af00; text-decoration-color: #00af00\">1,769,728</span> │ flatten_1[<span style=\"color: #00af00; text-decoration-color: #00af00\">0</span>][<span style=\"color: #00af00; text-decoration-color: #00af00\">0</span>]   │\n",
       "├─────────────────────┼───────────────────┼────────────┼───────────────────┤\n",
       "│ dense_4 (<span style=\"color: #0087ff; text-decoration-color: #0087ff\">Dense</span>)     │ (<span style=\"color: #00d7ff; text-decoration-color: #00d7ff\">None</span>, <span style=\"color: #00af00; text-decoration-color: #00af00\">256</span>)       │     <span style=\"color: #00af00; text-decoration-color: #00af00\">65,792</span> │ global_average_p… │\n",
       "├─────────────────────┼───────────────────┼────────────┼───────────────────┤\n",
       "│ batch_normalizatio… │ (<span style=\"color: #00d7ff; text-decoration-color: #00d7ff\">None</span>, <span style=\"color: #00af00; text-decoration-color: #00af00\">256</span>)       │      <span style=\"color: #00af00; text-decoration-color: #00af00\">1,024</span> │ dense_5[<span style=\"color: #00af00; text-decoration-color: #00af00\">0</span>][<span style=\"color: #00af00; text-decoration-color: #00af00\">0</span>]     │\n",
       "│ (<span style=\"color: #0087ff; text-decoration-color: #0087ff\">BatchNormalizatio…</span> │                   │            │                   │\n",
       "├─────────────────────┼───────────────────┼────────────┼───────────────────┤\n",
       "│ batch_normalizatio… │ (<span style=\"color: #00d7ff; text-decoration-color: #00d7ff\">None</span>, <span style=\"color: #00af00; text-decoration-color: #00af00\">256</span>)       │      <span style=\"color: #00af00; text-decoration-color: #00af00\">1,024</span> │ dense_4[<span style=\"color: #00af00; text-decoration-color: #00af00\">0</span>][<span style=\"color: #00af00; text-decoration-color: #00af00\">0</span>]     │\n",
       "│ (<span style=\"color: #0087ff; text-decoration-color: #0087ff\">BatchNormalizatio…</span> │                   │            │                   │\n",
       "├─────────────────────┼───────────────────┼────────────┼───────────────────┤\n",
       "│ activation_21       │ (<span style=\"color: #00d7ff; text-decoration-color: #00d7ff\">None</span>, <span style=\"color: #00af00; text-decoration-color: #00af00\">256</span>)       │          <span style=\"color: #00af00; text-decoration-color: #00af00\">0</span> │ batch_normalizat… │\n",
       "│ (<span style=\"color: #0087ff; text-decoration-color: #0087ff\">Activation</span>)        │                   │            │                   │\n",
       "├─────────────────────┼───────────────────┼────────────┼───────────────────┤\n",
       "│ activation_20       │ (<span style=\"color: #00d7ff; text-decoration-color: #00d7ff\">None</span>, <span style=\"color: #00af00; text-decoration-color: #00af00\">256</span>)       │          <span style=\"color: #00af00; text-decoration-color: #00af00\">0</span> │ batch_normalizat… │\n",
       "│ (<span style=\"color: #0087ff; text-decoration-color: #0087ff\">Activation</span>)        │                   │            │                   │\n",
       "├─────────────────────┼───────────────────┼────────────┼───────────────────┤\n",
       "│ dropout_3 (<span style=\"color: #0087ff; text-decoration-color: #0087ff\">Dropout</span>) │ (<span style=\"color: #00d7ff; text-decoration-color: #00d7ff\">None</span>, <span style=\"color: #00af00; text-decoration-color: #00af00\">256</span>)       │          <span style=\"color: #00af00; text-decoration-color: #00af00\">0</span> │ activation_21[<span style=\"color: #00af00; text-decoration-color: #00af00\">0</span>]… │\n",
       "├─────────────────────┼───────────────────┼────────────┼───────────────────┤\n",
       "│ dropout_2 (<span style=\"color: #0087ff; text-decoration-color: #0087ff\">Dropout</span>) │ (<span style=\"color: #00d7ff; text-decoration-color: #00d7ff\">None</span>, <span style=\"color: #00af00; text-decoration-color: #00af00\">256</span>)       │          <span style=\"color: #00af00; text-decoration-color: #00af00\">0</span> │ activation_20[<span style=\"color: #00af00; text-decoration-color: #00af00\">0</span>]… │\n",
       "├─────────────────────┼───────────────────┼────────────┼───────────────────┤\n",
       "│ dense_6 (<span style=\"color: #0087ff; text-decoration-color: #0087ff\">Dense</span>)     │ (<span style=\"color: #00d7ff; text-decoration-color: #00d7ff\">None</span>, <span style=\"color: #00af00; text-decoration-color: #00af00\">1</span>)         │        <span style=\"color: #00af00; text-decoration-color: #00af00\">257</span> │ dropout_3[<span style=\"color: #00af00; text-decoration-color: #00af00\">0</span>][<span style=\"color: #00af00; text-decoration-color: #00af00\">0</span>]   │\n",
       "├─────────────────────┼───────────────────┼────────────┼───────────────────┤\n",
       "│ dense_7 (<span style=\"color: #0087ff; text-decoration-color: #0087ff\">Dense</span>)     │ (<span style=\"color: #00d7ff; text-decoration-color: #00d7ff\">None</span>, <span style=\"color: #00af00; text-decoration-color: #00af00\">1</span>)         │        <span style=\"color: #00af00; text-decoration-color: #00af00\">257</span> │ dropout_2[<span style=\"color: #00af00; text-decoration-color: #00af00\">0</span>][<span style=\"color: #00af00; text-decoration-color: #00af00\">0</span>]   │\n",
       "└─────────────────────┴───────────────────┴────────────┴───────────────────┘\n",
       "</pre>\n"
      ],
      "text/plain": [
       "┏━━━━━━━━━━━━━━━━━━━━━┳━━━━━━━━━━━━━━━━━━━┳━━━━━━━━━━━━┳━━━━━━━━━━━━━━━━━━━┓\n",
       "┃\u001b[1m \u001b[0m\u001b[1mLayer (type)       \u001b[0m\u001b[1m \u001b[0m┃\u001b[1m \u001b[0m\u001b[1mOutput Shape     \u001b[0m\u001b[1m \u001b[0m┃\u001b[1m \u001b[0m\u001b[1m   Param #\u001b[0m\u001b[1m \u001b[0m┃\u001b[1m \u001b[0m\u001b[1mConnected to     \u001b[0m\u001b[1m \u001b[0m┃\n",
       "┡━━━━━━━━━━━━━━━━━━━━━╇━━━━━━━━━━━━━━━━━━━╇━━━━━━━━━━━━╇━━━━━━━━━━━━━━━━━━━┩\n",
       "│ Input_Complexes     │ (\u001b[38;5;45mNone\u001b[0m, \u001b[38;5;34m52\u001b[0m, \u001b[38;5;34m52\u001b[0m,    │          \u001b[38;5;34m0\u001b[0m │ -                 │\n",
       "│ (\u001b[38;5;33mInputLayer\u001b[0m)        │ \u001b[38;5;34m52\u001b[0m, \u001b[38;5;34m14\u001b[0m)           │            │                   │\n",
       "├─────────────────────┼───────────────────┼────────────┼───────────────────┤\n",
       "│ conv3d_9 (\u001b[38;5;33mConv3D\u001b[0m)   │ (\u001b[38;5;45mNone\u001b[0m, \u001b[38;5;34m52\u001b[0m, \u001b[38;5;34m52\u001b[0m,    │        \u001b[38;5;34m120\u001b[0m │ Input_Complexes[\u001b[38;5;34m…\u001b[0m │\n",
       "│                     │ \u001b[38;5;34m52\u001b[0m, \u001b[38;5;34m8\u001b[0m)            │            │                   │\n",
       "├─────────────────────┼───────────────────┼────────────┼───────────────────┤\n",
       "│ batch_normalizatio… │ (\u001b[38;5;45mNone\u001b[0m, \u001b[38;5;34m52\u001b[0m, \u001b[38;5;34m52\u001b[0m,    │         \u001b[38;5;34m32\u001b[0m │ conv3d_9[\u001b[38;5;34m0\u001b[0m][\u001b[38;5;34m0\u001b[0m]    │\n",
       "│ (\u001b[38;5;33mBatchNormalizatio…\u001b[0m │ \u001b[38;5;34m52\u001b[0m, \u001b[38;5;34m8\u001b[0m)            │            │                   │\n",
       "├─────────────────────┼───────────────────┼────────────┼───────────────────┤\n",
       "│ activation_11       │ (\u001b[38;5;45mNone\u001b[0m, \u001b[38;5;34m52\u001b[0m, \u001b[38;5;34m52\u001b[0m,    │          \u001b[38;5;34m0\u001b[0m │ batch_normalizat… │\n",
       "│ (\u001b[38;5;33mActivation\u001b[0m)        │ \u001b[38;5;34m52\u001b[0m, \u001b[38;5;34m8\u001b[0m)            │            │                   │\n",
       "├─────────────────────┼───────────────────┼────────────┼───────────────────┤\n",
       "│ conv3d_10 (\u001b[38;5;33mConv3D\u001b[0m)  │ (\u001b[38;5;45mNone\u001b[0m, \u001b[38;5;34m50\u001b[0m, \u001b[38;5;34m50\u001b[0m,    │      \u001b[38;5;34m1,736\u001b[0m │ activation_11[\u001b[38;5;34m0\u001b[0m]… │\n",
       "│                     │ \u001b[38;5;34m50\u001b[0m, \u001b[38;5;34m8\u001b[0m)            │            │                   │\n",
       "├─────────────────────┼───────────────────┼────────────┼───────────────────┤\n",
       "│ batch_normalizatio… │ (\u001b[38;5;45mNone\u001b[0m, \u001b[38;5;34m50\u001b[0m, \u001b[38;5;34m50\u001b[0m,    │         \u001b[38;5;34m32\u001b[0m │ conv3d_10[\u001b[38;5;34m0\u001b[0m][\u001b[38;5;34m0\u001b[0m]   │\n",
       "│ (\u001b[38;5;33mBatchNormalizatio…\u001b[0m │ \u001b[38;5;34m50\u001b[0m, \u001b[38;5;34m8\u001b[0m)            │            │                   │\n",
       "├─────────────────────┼───────────────────┼────────────┼───────────────────┤\n",
       "│ activation_12       │ (\u001b[38;5;45mNone\u001b[0m, \u001b[38;5;34m50\u001b[0m, \u001b[38;5;34m50\u001b[0m,    │          \u001b[38;5;34m0\u001b[0m │ batch_normalizat… │\n",
       "│ (\u001b[38;5;33mActivation\u001b[0m)        │ \u001b[38;5;34m50\u001b[0m, \u001b[38;5;34m8\u001b[0m)            │            │                   │\n",
       "├─────────────────────┼───────────────────┼────────────┼───────────────────┤\n",
       "│ conv3d_11 (\u001b[38;5;33mConv3D\u001b[0m)  │ (\u001b[38;5;45mNone\u001b[0m, \u001b[38;5;34m50\u001b[0m, \u001b[38;5;34m50\u001b[0m,    │      \u001b[38;5;34m6,944\u001b[0m │ activation_12[\u001b[38;5;34m0\u001b[0m]… │\n",
       "│                     │ \u001b[38;5;34m50\u001b[0m, \u001b[38;5;34m32\u001b[0m)           │            │                   │\n",
       "├─────────────────────┼───────────────────┼────────────┼───────────────────┤\n",
       "│ batch_normalizatio… │ (\u001b[38;5;45mNone\u001b[0m, \u001b[38;5;34m50\u001b[0m, \u001b[38;5;34m50\u001b[0m,    │        \u001b[38;5;34m128\u001b[0m │ conv3d_11[\u001b[38;5;34m0\u001b[0m][\u001b[38;5;34m0\u001b[0m]   │\n",
       "│ (\u001b[38;5;33mBatchNormalizatio…\u001b[0m │ \u001b[38;5;34m50\u001b[0m, \u001b[38;5;34m32\u001b[0m)           │            │                   │\n",
       "├─────────────────────┼───────────────────┼────────────┼───────────────────┤\n",
       "│ activation_13       │ (\u001b[38;5;45mNone\u001b[0m, \u001b[38;5;34m50\u001b[0m, \u001b[38;5;34m50\u001b[0m,    │          \u001b[38;5;34m0\u001b[0m │ batch_normalizat… │\n",
       "│ (\u001b[38;5;33mActivation\u001b[0m)        │ \u001b[38;5;34m50\u001b[0m, \u001b[38;5;34m32\u001b[0m)           │            │                   │\n",
       "├─────────────────────┼───────────────────┼────────────┼───────────────────┤\n",
       "│ max_pooling3d_4     │ (\u001b[38;5;45mNone\u001b[0m, \u001b[38;5;34m25\u001b[0m, \u001b[38;5;34m25\u001b[0m,    │          \u001b[38;5;34m0\u001b[0m │ activation_13[\u001b[38;5;34m0\u001b[0m]… │\n",
       "│ (\u001b[38;5;33mMaxPooling3D\u001b[0m)      │ \u001b[38;5;34m25\u001b[0m, \u001b[38;5;34m32\u001b[0m)           │            │                   │\n",
       "├─────────────────────┼───────────────────┼────────────┼───────────────────┤\n",
       "│ conv3d_12 (\u001b[38;5;33mConv3D\u001b[0m)  │ (\u001b[38;5;45mNone\u001b[0m, \u001b[38;5;34m25\u001b[0m, \u001b[38;5;34m25\u001b[0m,    │      \u001b[38;5;34m2,112\u001b[0m │ max_pooling3d_4[\u001b[38;5;34m…\u001b[0m │\n",
       "│                     │ \u001b[38;5;34m25\u001b[0m, \u001b[38;5;34m64\u001b[0m)           │            │                   │\n",
       "├─────────────────────┼───────────────────┼────────────┼───────────────────┤\n",
       "│ batch_normalizatio… │ (\u001b[38;5;45mNone\u001b[0m, \u001b[38;5;34m25\u001b[0m, \u001b[38;5;34m25\u001b[0m,    │        \u001b[38;5;34m256\u001b[0m │ conv3d_12[\u001b[38;5;34m0\u001b[0m][\u001b[38;5;34m0\u001b[0m]   │\n",
       "│ (\u001b[38;5;33mBatchNormalizatio…\u001b[0m │ \u001b[38;5;34m25\u001b[0m, \u001b[38;5;34m64\u001b[0m)           │            │                   │\n",
       "├─────────────────────┼───────────────────┼────────────┼───────────────────┤\n",
       "│ activation_14       │ (\u001b[38;5;45mNone\u001b[0m, \u001b[38;5;34m25\u001b[0m, \u001b[38;5;34m25\u001b[0m,    │          \u001b[38;5;34m0\u001b[0m │ batch_normalizat… │\n",
       "│ (\u001b[38;5;33mActivation\u001b[0m)        │ \u001b[38;5;34m25\u001b[0m, \u001b[38;5;34m64\u001b[0m)           │            │                   │\n",
       "├─────────────────────┼───────────────────┼────────────┼───────────────────┤\n",
       "│ conv3d_13 (\u001b[38;5;33mConv3D\u001b[0m)  │ (\u001b[38;5;45mNone\u001b[0m, \u001b[38;5;34m25\u001b[0m, \u001b[38;5;34m25\u001b[0m,    │    \u001b[38;5;34m110,656\u001b[0m │ activation_14[\u001b[38;5;34m0\u001b[0m]… │\n",
       "│                     │ \u001b[38;5;34m25\u001b[0m, \u001b[38;5;34m64\u001b[0m)           │            │                   │\n",
       "├─────────────────────┼───────────────────┼────────────┼───────────────────┤\n",
       "│ batch_normalizatio… │ (\u001b[38;5;45mNone\u001b[0m, \u001b[38;5;34m25\u001b[0m, \u001b[38;5;34m25\u001b[0m,    │        \u001b[38;5;34m256\u001b[0m │ conv3d_13[\u001b[38;5;34m0\u001b[0m][\u001b[38;5;34m0\u001b[0m]   │\n",
       "│ (\u001b[38;5;33mBatchNormalizatio…\u001b[0m │ \u001b[38;5;34m25\u001b[0m, \u001b[38;5;34m64\u001b[0m)           │            │                   │\n",
       "├─────────────────────┼───────────────────┼────────────┼───────────────────┤\n",
       "│ activation_15       │ (\u001b[38;5;45mNone\u001b[0m, \u001b[38;5;34m25\u001b[0m, \u001b[38;5;34m25\u001b[0m,    │          \u001b[38;5;34m0\u001b[0m │ batch_normalizat… │\n",
       "│ (\u001b[38;5;33mActivation\u001b[0m)        │ \u001b[38;5;34m25\u001b[0m, \u001b[38;5;34m64\u001b[0m)           │            │                   │\n",
       "├─────────────────────┼───────────────────┼────────────┼───────────────────┤\n",
       "│ max_pooling3d_5     │ (\u001b[38;5;45mNone\u001b[0m, \u001b[38;5;34m12\u001b[0m, \u001b[38;5;34m12\u001b[0m,    │          \u001b[38;5;34m0\u001b[0m │ activation_15[\u001b[38;5;34m0\u001b[0m]… │\n",
       "│ (\u001b[38;5;33mMaxPooling3D\u001b[0m)      │ \u001b[38;5;34m12\u001b[0m, \u001b[38;5;34m64\u001b[0m)           │            │                   │\n",
       "├─────────────────────┼───────────────────┼────────────┼───────────────────┤\n",
       "│ conv3d_14 (\u001b[38;5;33mConv3D\u001b[0m)  │ (\u001b[38;5;45mNone\u001b[0m, \u001b[38;5;34m12\u001b[0m, \u001b[38;5;34m12\u001b[0m,    │      \u001b[38;5;34m8,320\u001b[0m │ max_pooling3d_5[\u001b[38;5;34m…\u001b[0m │\n",
       "│                     │ \u001b[38;5;34m12\u001b[0m, \u001b[38;5;34m128\u001b[0m)          │            │                   │\n",
       "├─────────────────────┼───────────────────┼────────────┼───────────────────┤\n",
       "│ batch_normalizatio… │ (\u001b[38;5;45mNone\u001b[0m, \u001b[38;5;34m12\u001b[0m, \u001b[38;5;34m12\u001b[0m,    │        \u001b[38;5;34m512\u001b[0m │ conv3d_14[\u001b[38;5;34m0\u001b[0m][\u001b[38;5;34m0\u001b[0m]   │\n",
       "│ (\u001b[38;5;33mBatchNormalizatio…\u001b[0m │ \u001b[38;5;34m12\u001b[0m, \u001b[38;5;34m128\u001b[0m)          │            │                   │\n",
       "├─────────────────────┼───────────────────┼────────────┼───────────────────┤\n",
       "│ activation_16       │ (\u001b[38;5;45mNone\u001b[0m, \u001b[38;5;34m12\u001b[0m, \u001b[38;5;34m12\u001b[0m,    │          \u001b[38;5;34m0\u001b[0m │ batch_normalizat… │\n",
       "│ (\u001b[38;5;33mActivation\u001b[0m)        │ \u001b[38;5;34m12\u001b[0m, \u001b[38;5;34m128\u001b[0m)          │            │                   │\n",
       "├─────────────────────┼───────────────────┼────────────┼───────────────────┤\n",
       "│ conv3d_15 (\u001b[38;5;33mConv3D\u001b[0m)  │ (\u001b[38;5;45mNone\u001b[0m, \u001b[38;5;34m12\u001b[0m, \u001b[38;5;34m12\u001b[0m,    │    \u001b[38;5;34m442,496\u001b[0m │ activation_16[\u001b[38;5;34m0\u001b[0m]… │\n",
       "│                     │ \u001b[38;5;34m12\u001b[0m, \u001b[38;5;34m128\u001b[0m)          │            │                   │\n",
       "├─────────────────────┼───────────────────┼────────────┼───────────────────┤\n",
       "│ batch_normalizatio… │ (\u001b[38;5;45mNone\u001b[0m, \u001b[38;5;34m12\u001b[0m, \u001b[38;5;34m12\u001b[0m,    │        \u001b[38;5;34m512\u001b[0m │ conv3d_15[\u001b[38;5;34m0\u001b[0m][\u001b[38;5;34m0\u001b[0m]   │\n",
       "│ (\u001b[38;5;33mBatchNormalizatio…\u001b[0m │ \u001b[38;5;34m12\u001b[0m, \u001b[38;5;34m128\u001b[0m)          │            │                   │\n",
       "├─────────────────────┼───────────────────┼────────────┼───────────────────┤\n",
       "│ activation_17       │ (\u001b[38;5;45mNone\u001b[0m, \u001b[38;5;34m12\u001b[0m, \u001b[38;5;34m12\u001b[0m,    │          \u001b[38;5;34m0\u001b[0m │ batch_normalizat… │\n",
       "│ (\u001b[38;5;33mActivation\u001b[0m)        │ \u001b[38;5;34m12\u001b[0m, \u001b[38;5;34m128\u001b[0m)          │            │                   │\n",
       "├─────────────────────┼───────────────────┼────────────┼───────────────────┤\n",
       "│ max_pooling3d_6     │ (\u001b[38;5;45mNone\u001b[0m, \u001b[38;5;34m6\u001b[0m, \u001b[38;5;34m6\u001b[0m, \u001b[38;5;34m6\u001b[0m,   │          \u001b[38;5;34m0\u001b[0m │ activation_17[\u001b[38;5;34m0\u001b[0m]… │\n",
       "│ (\u001b[38;5;33mMaxPooling3D\u001b[0m)      │ \u001b[38;5;34m128\u001b[0m)              │            │                   │\n",
       "├─────────────────────┼───────────────────┼────────────┼───────────────────┤\n",
       "│ conv3d_16 (\u001b[38;5;33mConv3D\u001b[0m)  │ (\u001b[38;5;45mNone\u001b[0m, \u001b[38;5;34m6\u001b[0m, \u001b[38;5;34m6\u001b[0m, \u001b[38;5;34m6\u001b[0m,   │     \u001b[38;5;34m33,024\u001b[0m │ max_pooling3d_6[\u001b[38;5;34m…\u001b[0m │\n",
       "│                     │ \u001b[38;5;34m256\u001b[0m)              │            │                   │\n",
       "├─────────────────────┼───────────────────┼────────────┼───────────────────┤\n",
       "│ batch_normalizatio… │ (\u001b[38;5;45mNone\u001b[0m, \u001b[38;5;34m6\u001b[0m, \u001b[38;5;34m6\u001b[0m, \u001b[38;5;34m6\u001b[0m,   │      \u001b[38;5;34m1,024\u001b[0m │ conv3d_16[\u001b[38;5;34m0\u001b[0m][\u001b[38;5;34m0\u001b[0m]   │\n",
       "│ (\u001b[38;5;33mBatchNormalizatio…\u001b[0m │ \u001b[38;5;34m256\u001b[0m)              │            │                   │\n",
       "├─────────────────────┼───────────────────┼────────────┼───────────────────┤\n",
       "│ activation_18       │ (\u001b[38;5;45mNone\u001b[0m, \u001b[38;5;34m6\u001b[0m, \u001b[38;5;34m6\u001b[0m, \u001b[38;5;34m6\u001b[0m,   │          \u001b[38;5;34m0\u001b[0m │ batch_normalizat… │\n",
       "│ (\u001b[38;5;33mActivation\u001b[0m)        │ \u001b[38;5;34m256\u001b[0m)              │            │                   │\n",
       "├─────────────────────┼───────────────────┼────────────┼───────────────────┤\n",
       "│ conv3d_17 (\u001b[38;5;33mConv3D\u001b[0m)  │ (\u001b[38;5;45mNone\u001b[0m, \u001b[38;5;34m6\u001b[0m, \u001b[38;5;34m6\u001b[0m, \u001b[38;5;34m6\u001b[0m,   │  \u001b[38;5;34m1,769,728\u001b[0m │ activation_18[\u001b[38;5;34m0\u001b[0m]… │\n",
       "│                     │ \u001b[38;5;34m256\u001b[0m)              │            │                   │\n",
       "├─────────────────────┼───────────────────┼────────────┼───────────────────┤\n",
       "│ batch_normalizatio… │ (\u001b[38;5;45mNone\u001b[0m, \u001b[38;5;34m6\u001b[0m, \u001b[38;5;34m6\u001b[0m, \u001b[38;5;34m6\u001b[0m,   │      \u001b[38;5;34m1,024\u001b[0m │ conv3d_17[\u001b[38;5;34m0\u001b[0m][\u001b[38;5;34m0\u001b[0m]   │\n",
       "│ (\u001b[38;5;33mBatchNormalizatio…\u001b[0m │ \u001b[38;5;34m256\u001b[0m)              │            │                   │\n",
       "├─────────────────────┼───────────────────┼────────────┼───────────────────┤\n",
       "│ activation_19       │ (\u001b[38;5;45mNone\u001b[0m, \u001b[38;5;34m6\u001b[0m, \u001b[38;5;34m6\u001b[0m, \u001b[38;5;34m6\u001b[0m,   │          \u001b[38;5;34m0\u001b[0m │ batch_normalizat… │\n",
       "│ (\u001b[38;5;33mActivation\u001b[0m)        │ \u001b[38;5;34m256\u001b[0m)              │            │                   │\n",
       "├─────────────────────┼───────────────────┼────────────┼───────────────────┤\n",
       "│ max_pooling3d_7     │ (\u001b[38;5;45mNone\u001b[0m, \u001b[38;5;34m3\u001b[0m, \u001b[38;5;34m3\u001b[0m, \u001b[38;5;34m3\u001b[0m,   │          \u001b[38;5;34m0\u001b[0m │ activation_19[\u001b[38;5;34m0\u001b[0m]… │\n",
       "│ (\u001b[38;5;33mMaxPooling3D\u001b[0m)      │ \u001b[38;5;34m256\u001b[0m)              │            │                   │\n",
       "├─────────────────────┼───────────────────┼────────────┼───────────────────┤\n",
       "│ flatten_1 (\u001b[38;5;33mFlatten\u001b[0m) │ (\u001b[38;5;45mNone\u001b[0m, \u001b[38;5;34m6912\u001b[0m)      │          \u001b[38;5;34m0\u001b[0m │ max_pooling3d_7[\u001b[38;5;34m…\u001b[0m │\n",
       "├─────────────────────┼───────────────────┼────────────┼───────────────────┤\n",
       "│ global_average_poo… │ (\u001b[38;5;45mNone\u001b[0m, \u001b[38;5;34m256\u001b[0m)       │          \u001b[38;5;34m0\u001b[0m │ max_pooling3d_7[\u001b[38;5;34m…\u001b[0m │\n",
       "│ (\u001b[38;5;33mGlobalAveragePool…\u001b[0m │                   │            │                   │\n",
       "├─────────────────────┼───────────────────┼────────────┼───────────────────┤\n",
       "│ dense_5 (\u001b[38;5;33mDense\u001b[0m)     │ (\u001b[38;5;45mNone\u001b[0m, \u001b[38;5;34m256\u001b[0m)       │  \u001b[38;5;34m1,769,728\u001b[0m │ flatten_1[\u001b[38;5;34m0\u001b[0m][\u001b[38;5;34m0\u001b[0m]   │\n",
       "├─────────────────────┼───────────────────┼────────────┼───────────────────┤\n",
       "│ dense_4 (\u001b[38;5;33mDense\u001b[0m)     │ (\u001b[38;5;45mNone\u001b[0m, \u001b[38;5;34m256\u001b[0m)       │     \u001b[38;5;34m65,792\u001b[0m │ global_average_p… │\n",
       "├─────────────────────┼───────────────────┼────────────┼───────────────────┤\n",
       "│ batch_normalizatio… │ (\u001b[38;5;45mNone\u001b[0m, \u001b[38;5;34m256\u001b[0m)       │      \u001b[38;5;34m1,024\u001b[0m │ dense_5[\u001b[38;5;34m0\u001b[0m][\u001b[38;5;34m0\u001b[0m]     │\n",
       "│ (\u001b[38;5;33mBatchNormalizatio…\u001b[0m │                   │            │                   │\n",
       "├─────────────────────┼───────────────────┼────────────┼───────────────────┤\n",
       "│ batch_normalizatio… │ (\u001b[38;5;45mNone\u001b[0m, \u001b[38;5;34m256\u001b[0m)       │      \u001b[38;5;34m1,024\u001b[0m │ dense_4[\u001b[38;5;34m0\u001b[0m][\u001b[38;5;34m0\u001b[0m]     │\n",
       "│ (\u001b[38;5;33mBatchNormalizatio…\u001b[0m │                   │            │                   │\n",
       "├─────────────────────┼───────────────────┼────────────┼───────────────────┤\n",
       "│ activation_21       │ (\u001b[38;5;45mNone\u001b[0m, \u001b[38;5;34m256\u001b[0m)       │          \u001b[38;5;34m0\u001b[0m │ batch_normalizat… │\n",
       "│ (\u001b[38;5;33mActivation\u001b[0m)        │                   │            │                   │\n",
       "├─────────────────────┼───────────────────┼────────────┼───────────────────┤\n",
       "│ activation_20       │ (\u001b[38;5;45mNone\u001b[0m, \u001b[38;5;34m256\u001b[0m)       │          \u001b[38;5;34m0\u001b[0m │ batch_normalizat… │\n",
       "│ (\u001b[38;5;33mActivation\u001b[0m)        │                   │            │                   │\n",
       "├─────────────────────┼───────────────────┼────────────┼───────────────────┤\n",
       "│ dropout_3 (\u001b[38;5;33mDropout\u001b[0m) │ (\u001b[38;5;45mNone\u001b[0m, \u001b[38;5;34m256\u001b[0m)       │          \u001b[38;5;34m0\u001b[0m │ activation_21[\u001b[38;5;34m0\u001b[0m]… │\n",
       "├─────────────────────┼───────────────────┼────────────┼───────────────────┤\n",
       "│ dropout_2 (\u001b[38;5;33mDropout\u001b[0m) │ (\u001b[38;5;45mNone\u001b[0m, \u001b[38;5;34m256\u001b[0m)       │          \u001b[38;5;34m0\u001b[0m │ activation_20[\u001b[38;5;34m0\u001b[0m]… │\n",
       "├─────────────────────┼───────────────────┼────────────┼───────────────────┤\n",
       "│ dense_6 (\u001b[38;5;33mDense\u001b[0m)     │ (\u001b[38;5;45mNone\u001b[0m, \u001b[38;5;34m1\u001b[0m)         │        \u001b[38;5;34m257\u001b[0m │ dropout_3[\u001b[38;5;34m0\u001b[0m][\u001b[38;5;34m0\u001b[0m]   │\n",
       "├─────────────────────┼───────────────────┼────────────┼───────────────────┤\n",
       "│ dense_7 (\u001b[38;5;33mDense\u001b[0m)     │ (\u001b[38;5;45mNone\u001b[0m, \u001b[38;5;34m1\u001b[0m)         │        \u001b[38;5;34m257\u001b[0m │ dropout_2[\u001b[38;5;34m0\u001b[0m][\u001b[38;5;34m0\u001b[0m]   │\n",
       "└─────────────────────┴───────────────────┴────────────┴───────────────────┘\n"
      ]
     },
     "metadata": {},
     "output_type": "display_data"
    },
    {
     "data": {
      "text/html": [
       "<pre style=\"white-space:pre;overflow-x:auto;line-height:normal;font-family:Menlo,'DejaVu Sans Mono',consolas,'Courier New',monospace\"><span style=\"font-weight: bold\"> Total params: </span><span style=\"color: #00af00; text-decoration-color: #00af00\">4,216,994</span> (16.09 MB)\n",
       "</pre>\n"
      ],
      "text/plain": [
       "\u001b[1m Total params: \u001b[0m\u001b[38;5;34m4,216,994\u001b[0m (16.09 MB)\n"
      ]
     },
     "metadata": {},
     "output_type": "display_data"
    },
    {
     "data": {
      "text/html": [
       "<pre style=\"white-space:pre;overflow-x:auto;line-height:normal;font-family:Menlo,'DejaVu Sans Mono',consolas,'Courier New',monospace\"><span style=\"font-weight: bold\"> Trainable params: </span><span style=\"color: #00af00; text-decoration-color: #00af00\">4,214,082</span> (16.08 MB)\n",
       "</pre>\n"
      ],
      "text/plain": [
       "\u001b[1m Trainable params: \u001b[0m\u001b[38;5;34m4,214,082\u001b[0m (16.08 MB)\n"
      ]
     },
     "metadata": {},
     "output_type": "display_data"
    },
    {
     "data": {
      "text/html": [
       "<pre style=\"white-space:pre;overflow-x:auto;line-height:normal;font-family:Menlo,'DejaVu Sans Mono',consolas,'Courier New',monospace\"><span style=\"font-weight: bold\"> Non-trainable params: </span><span style=\"color: #00af00; text-decoration-color: #00af00\">2,912</span> (11.38 KB)\n",
       "</pre>\n"
      ],
      "text/plain": [
       "\u001b[1m Non-trainable params: \u001b[0m\u001b[38;5;34m2,912\u001b[0m (11.38 KB)\n"
      ]
     },
     "metadata": {},
     "output_type": "display_data"
    }
   ],
   "source": [
    "model = combine_embedding(0.5, shape)\n",
    "model.summary()"
   ]
  },
  {
   "cell_type": "code",
   "execution_count": 93,
   "metadata": {
    "id": "cNya0uE8jJZX"
   },
   "outputs": [],
   "source": [
    "optimizer=Adam(learning_rate=1e-4)\n",
    "\n",
    "loss=['mean_squared_error', \"binary_crossentropy\"]\n",
    "model.compile(optimizer= optimizer,\n",
    "              loss= loss, run_eagerly=True)"
   ]
  },
  {
   "cell_type": "markdown",
   "metadata": {
    "id": "ilAQj_pFofTR"
   },
   "source": [
    "## Save paths"
   ]
  },
  {
   "cell_type": "code",
   "execution_count": 94,
   "metadata": {
    "id": "iUXYpxIajJUW"
   },
   "outputs": [],
   "source": [
    "# save_path = '/content/gdrive/MyDrive/Final/Model'\n",
    "# best_path = '/content/gdrive/MyDrive/Final/Best'"
   ]
  },
  {
   "cell_type": "code",
   "execution_count": 95,
   "metadata": {
    "id": "GcAv4TcLvn7z"
   },
   "outputs": [],
   "source": [
    "save_path = './SFCNN/Model1'\n",
    "best_path = './SFCNN/Best1'"
   ]
  },
  {
   "cell_type": "markdown",
   "metadata": {
    "id": "E8GClfHxo7HV"
   },
   "source": [
    "## Set hyperparameters"
   ]
  },
  {
   "cell_type": "code",
   "execution_count": 47,
   "metadata": {
    "id": "pOebQvsyo9V7"
   },
   "outputs": [],
   "source": [
    "batch_size = 32\n",
    "epochs = 150"
   ]
  },
  {
   "cell_type": "markdown",
   "metadata": {
    "id": "uYUIAqW2oiKw"
   },
   "source": [
    "## Train"
   ]
  },
  {
   "cell_type": "code",
   "execution_count": null,
   "metadata": {
    "id": "fzhrunX5u8yu"
   },
   "outputs": [
    {
     "name": "stdout",
     "output_type": "stream",
     "text": [
      "----------------------- Start TrainDataset ------------------------\n",
      "=======================Batch 96==============================\n",
      "Get dataset\n",
      "----------------------- Train TrainDataset ------------------------\n"
     ]
    },
    {
     "name": "stderr",
     "output_type": "stream",
     "text": [
      "2024-04-05 09:04:51.279111: I external/local_xla/xla/stream_executor/cuda/cuda_dnn.cc:465] Loaded cuDNN version 8907\n"
     ]
    },
    {
     "name": "stdout",
     "output_type": "stream",
     "text": [
      "Save\n",
      "=======================Batch 97==============================\n",
      "Get dataset\n",
      "----------------------- Train TrainDataset ------------------------\n",
      "Save\n",
      "=======================Batch 98==============================\n",
      "Get dataset\n",
      "----------------------- Train TrainDataset ------------------------\n",
      "Save\n",
      "=======================Batch 99==============================\n",
      "Get dataset\n",
      "----------------------- Train TrainDataset ------------------------\n",
      "Save\n",
      "=======================Batch 100==============================\n",
      "Get dataset\n",
      "----------------------- Train TrainDataset ------------------------\n",
      "Save\n",
      "=======================Batch 101==============================\n",
      "Get dataset\n",
      "----------------------- Train TrainDataset ------------------------\n",
      "Save\n",
      "=======================Batch 102==============================\n",
      "Get dataset\n",
      "----------------------- Train TrainDataset ------------------------\n",
      "Save\n",
      "=======================Batch 103==============================\n",
      "Get dataset\n",
      "----------------------- Train TrainDataset ------------------------\n",
      "Save\n",
      "=======================Batch 104==============================\n",
      "Get dataset\n",
      "----------------------- Train TrainDataset ------------------------\n",
      "Save\n",
      "=======================Batch 105==============================\n",
      "Get dataset\n",
      "----------------------- Train TrainDataset ------------------------\n",
      "Save\n",
      "=======================Batch 106==============================\n",
      "Get dataset\n",
      "----------------------- Train TrainDataset ------------------------\n",
      "Save\n",
      "=======================Batch 107==============================\n",
      "Get dataset\n",
      "----------------------- Train TrainDataset ------------------------\n",
      "Save\n",
      "=======================Batch 108==============================\n",
      "Get dataset\n",
      "----------------------- Train TrainDataset ------------------------\n",
      "Save\n",
      "=======================Batch 109==============================\n",
      "Get dataset\n",
      "----------------------- Train TrainDataset ------------------------\n",
      "Save\n",
      "=======================Batch 110==============================\n",
      "Get dataset\n",
      "----------------------- Train TrainDataset ------------------------\n",
      "Save\n",
      "=======================Batch 111==============================\n",
      "Get dataset\n",
      "----------------------- Train TrainDataset ------------------------\n",
      "Save\n",
      "=======================Batch 112==============================\n",
      "Get dataset\n",
      "----------------------- Train TrainDataset ------------------------\n",
      "Save\n",
      "=======================Batch 113==============================\n",
      "Get dataset\n",
      "----------------------- Train TrainDataset ------------------------\n",
      "Save\n",
      "=======================Batch 114==============================\n",
      "Get dataset\n",
      "----------------------- Train TrainDataset ------------------------\n",
      "Save\n",
      "=======================Batch 115==============================\n",
      "Get dataset\n",
      "----------------------- Train TrainDataset ------------------------\n",
      "Save\n",
      "=======================Batch 116==============================\n",
      "Get dataset\n",
      "----------------------- Train TrainDataset ------------------------\n",
      "Save\n",
      "=======================Batch 117==============================\n",
      "Get dataset\n",
      "----------------------- Train TrainDataset ------------------------\n",
      "Save\n",
      "=======================Batch 118==============================\n",
      "Get dataset\n",
      "----------------------- Train TrainDataset ------------------------\n",
      "Save\n",
      "=======================Batch 119==============================\n",
      "Get dataset\n",
      "----------------------- Train TrainDataset ------------------------\n",
      "Save\n",
      "=======================Batch 120==============================\n",
      "Get dataset\n",
      "----------------------- Train TrainDataset ------------------------\n",
      "Save\n",
      "=======================Batch 121==============================\n",
      "Get dataset\n",
      "----------------------- Train TrainDataset ------------------------\n",
      "Save\n",
      "=======================Batch 122==============================\n",
      "Get dataset\n",
      "----------------------- Train TrainDataset ------------------------\n",
      "Save\n",
      "=======================Batch 123==============================\n",
      "Get dataset\n",
      "----------------------- Train TrainDataset ------------------------\n",
      "Save\n",
      "=======================Batch 124==============================\n",
      "Get dataset\n",
      "----------------------- Train TrainDataset ------------------------\n",
      "Save\n",
      "=======================Batch 125==============================\n",
      "Get dataset\n",
      "----------------------- Train TrainDataset ------------------------\n",
      "Save\n",
      "=======================Batch 126==============================\n",
      "Get dataset\n",
      "----------------------- Train TrainDataset ------------------------\n",
      "Save\n",
      "=======================Batch 127==============================\n",
      "Get dataset\n",
      "----------------------- Train TrainDataset ------------------------\n",
      "Save\n",
      "=======================Batch 128==============================\n",
      "Get dataset\n",
      "----------------------- Train TrainDataset ------------------------\n",
      "Save\n",
      "=======================Batch 129==============================\n",
      "Get dataset\n",
      "----------------------- Train TrainDataset ------------------------\n",
      "Save\n",
      "=======================Batch 130==============================\n",
      "Get dataset\n",
      "----------------------- Train TrainDataset ------------------------\n",
      "Save\n",
      "=======================Batch 131==============================\n",
      "Get dataset\n",
      "----------------------- Train TrainDataset ------------------------\n",
      "Save\n",
      "=======================Batch 132==============================\n",
      "Get dataset\n",
      "----------------------- Train TrainDataset ------------------------\n",
      "Save\n",
      "=======================Batch 133==============================\n",
      "Get dataset\n",
      "----------------------- Train TrainDataset ------------------------\n",
      "Save\n",
      "=======================Batch 134==============================\n",
      "Get dataset\n",
      "----------------------- Train TrainDataset ------------------------\n",
      "Save\n",
      "=======================Batch 135==============================\n",
      "Get dataset\n",
      "----------------------- Train TrainDataset ------------------------\n",
      "Save\n",
      "=======================Batch 136==============================\n",
      "Get dataset\n",
      "----------------------- Train TrainDataset ------------------------\n",
      "Save\n",
      "=======================Batch 137==============================\n",
      "Get dataset\n",
      "----------------------- Train TrainDataset ------------------------\n",
      "Save\n",
      "=======================Batch 138==============================\n",
      "Get dataset\n",
      "----------------------- Train TrainDataset ------------------------\n",
      "Save\n",
      "=======================Batch 139==============================\n",
      "Get dataset\n",
      "----------------------- Train TrainDataset ------------------------\n",
      "Save\n",
      "=======================Batch 140==============================\n",
      "Get dataset\n",
      "----------------------- Train TrainDataset ------------------------\n",
      "Save\n",
      "=======================Batch 141==============================\n",
      "Get dataset\n",
      "----------------------- Train TrainDataset ------------------------\n",
      "Save\n",
      "=======================Batch 142==============================\n",
      "Get dataset\n",
      "----------------------- Train TrainDataset ------------------------\n",
      "Save\n",
      "=======================Batch 143==============================\n",
      "Get dataset\n",
      "----------------------- Train TrainDataset ------------------------\n",
      "Save\n",
      "=======================Batch 144==============================\n",
      "Get dataset\n",
      "----------------------- Train TrainDataset ------------------------\n",
      "Save\n",
      "=======================Batch 145==============================\n",
      "Get dataset\n",
      "----------------------- Train TrainDataset ------------------------\n",
      "Save\n",
      "=======================Batch 146==============================\n",
      "Get dataset\n",
      "----------------------- Train TrainDataset ------------------------\n",
      "Save\n",
      "=======================Batch 147==============================\n",
      "Get dataset\n",
      "----------------------- Train TrainDataset ------------------------\n",
      "Save\n",
      "=======================Batch 148==============================\n",
      "Get dataset\n",
      "----------------------- Train TrainDataset ------------------------\n",
      "Save\n",
      "=======================Batch 149==============================\n",
      "Get dataset\n",
      "----------------------- Train TrainDataset ------------------------\n",
      "Save\n",
      "=======================Batch 150==============================\n",
      "Get dataset\n",
      "----------------------- Train TrainDataset ------------------------\n",
      "Save\n",
      "=======================Batch 151==============================\n",
      "Get dataset\n",
      "----------------------- Train TrainDataset ------------------------\n",
      "Save\n",
      "=======================Batch 152==============================\n",
      "Get dataset\n",
      "----------------------- Train TrainDataset ------------------------\n",
      "Save\n",
      "=======================Batch 153==============================\n",
      "Get dataset\n",
      "----------------------- Train TrainDataset ------------------------\n",
      "Save\n",
      "=======================Batch 154==============================\n",
      "Get dataset\n",
      "----------------------- Train TrainDataset ------------------------\n",
      "Save\n",
      "=======================Batch 155==============================\n",
      "Get dataset\n",
      "----------------------- Train TrainDataset ------------------------\n",
      "Save\n",
      "=======================Batch 156==============================\n",
      "Get dataset\n",
      "----------------------- Train TrainDataset ------------------------\n",
      "Save\n",
      "=======================Batch 157==============================\n",
      "Get dataset\n",
      "----------------------- Train TrainDataset ------------------------\n",
      "Save\n",
      "=======================Batch 158==============================\n",
      "Get dataset\n",
      "----------------------- Train TrainDataset ------------------------\n",
      "Save\n",
      "=======================Batch 159==============================\n",
      "Get dataset\n",
      "----------------------- Train TrainDataset ------------------------\n",
      "Save\n",
      "=======================Batch 160==============================\n",
      "Get dataset\n",
      "----------------------- Train TrainDataset ------------------------\n",
      "Save\n",
      "=======================Batch 161==============================\n",
      "Get dataset\n",
      "----------------------- Train TrainDataset ------------------------\n",
      "Save\n",
      "=======================Batch 162==============================\n",
      "Get dataset\n",
      "----------------------- Train TrainDataset ------------------------\n",
      "Save\n",
      "=======================Batch 163==============================\n",
      "Get dataset\n",
      "----------------------- Train TrainDataset ------------------------\n",
      "Save\n",
      "=======================Batch 164==============================\n",
      "Get dataset\n",
      "----------------------- Train TrainDataset ------------------------\n",
      "Save\n",
      "=======================Batch 165==============================\n",
      "Get dataset\n",
      "----------------------- Train TrainDataset ------------------------\n",
      "Save\n",
      "=======================Batch 166==============================\n",
      "Get dataset\n",
      "----------------------- Train TrainDataset ------------------------\n",
      "Save\n",
      "=======================Batch 167==============================\n",
      "Get dataset\n",
      "----------------------- Train TrainDataset ------------------------\n",
      "Save\n",
      "=======================Batch 168==============================\n",
      "Get dataset\n",
      "----------------------- Train TrainDataset ------------------------\n",
      "Save\n",
      "=======================Batch 169==============================\n",
      "Get dataset\n",
      "----------------------- Train TrainDataset ------------------------\n",
      "Save\n",
      "=======================Batch 170==============================\n",
      "Get dataset\n",
      "----------------------- Train TrainDataset ------------------------\n",
      "Save\n",
      "=======================Batch 171==============================\n",
      "Get dataset\n",
      "----------------------- Train TrainDataset ------------------------\n",
      "Save\n",
      "=======================Batch 172==============================\n",
      "Get dataset\n",
      "----------------------- Train TrainDataset ------------------------\n",
      "Save\n",
      "=======================Batch 173==============================\n",
      "Get dataset\n",
      "----------------------- Train TrainDataset ------------------------\n",
      "Save\n",
      "=======================Batch 174==============================\n",
      "Get dataset\n",
      "----------------------- Train TrainDataset ------------------------\n",
      "Save\n",
      "=======================Batch 175==============================\n",
      "Get dataset\n",
      "----------------------- Train TrainDataset ------------------------\n",
      "Save\n",
      "=======================Batch 176==============================\n",
      "Get dataset\n",
      "----------------------- Train TrainDataset ------------------------\n",
      "Save\n",
      "=======================Batch 177==============================\n",
      "Get dataset\n",
      "----------------------- Train TrainDataset ------------------------\n",
      "Save\n",
      "=======================Batch 178==============================\n",
      "Get dataset\n",
      "----------------------- Train TrainDataset ------------------------\n",
      "Save\n",
      "=======================Batch 179==============================\n",
      "Get dataset\n",
      "----------------------- Train TrainDataset ------------------------\n",
      "Save\n",
      "=======================Batch 180==============================\n",
      "Get dataset\n",
      "----------------------- Train TrainDataset ------------------------\n",
      "Save\n",
      "=======================Batch 181==============================\n",
      "Get dataset\n",
      "----------------------- Train TrainDataset ------------------------\n",
      "Save\n",
      "=======================Batch 182==============================\n",
      "Get dataset\n",
      "----------------------- Train TrainDataset ------------------------\n",
      "Save\n",
      "=======================Batch 183==============================\n",
      "Get dataset\n",
      "----------------------- Train TrainDataset ------------------------\n",
      "Save\n",
      "=======================Batch 184==============================\n",
      "Get dataset\n",
      "----------------------- Train TrainDataset ------------------------\n",
      "Save\n",
      "=======================Batch 185==============================\n",
      "Get dataset\n",
      "----------------------- Train TrainDataset ------------------------\n",
      "Save\n",
      "=======================Batch 186==============================\n",
      "Get dataset\n",
      "----------------------- Train TrainDataset ------------------------\n",
      "Save\n",
      "=======================Batch 187==============================\n",
      "Get dataset\n",
      "----------------------- Train TrainDataset ------------------------\n",
      "Save\n",
      "=======================Batch 188==============================\n",
      "Get dataset\n",
      "----------------------- Train TrainDataset ------------------------\n",
      "Save\n",
      "=======================Batch 189==============================\n",
      "Get dataset\n",
      "----------------------- Train TrainDataset ------------------------\n",
      "Save\n",
      "=======================Batch 190==============================\n",
      "Get dataset\n",
      "----------------------- Train TrainDataset ------------------------\n",
      "Save\n",
      "=======================Batch 191==============================\n",
      "Get dataset\n",
      "----------------------- Train TrainDataset ------------------------\n",
      "Save\n",
      "=======================Batch 192==============================\n",
      "Get dataset\n",
      "----------------------- Train TrainDataset ------------------------\n",
      "Save\n",
      "=======================Batch 193==============================\n",
      "Get dataset\n",
      "----------------------- Train TrainDataset ------------------------\n",
      "Save\n",
      "=======================Batch 194==============================\n",
      "Get dataset\n",
      "----------------------- Train TrainDataset ------------------------\n",
      "Save\n",
      "=======================Batch 195==============================\n",
      "Get dataset\n",
      "----------------------- Train TrainDataset ------------------------\n",
      "Save\n",
      "=======================Batch 196==============================\n",
      "Get dataset\n",
      "----------------------- Train TrainDataset ------------------------\n",
      "Save\n",
      "=======================Batch 197==============================\n",
      "Get dataset\n",
      "----------------------- Train TrainDataset ------------------------\n",
      "Save\n",
      "=======================Batch 198==============================\n",
      "Get dataset\n",
      "----------------------- Train TrainDataset ------------------------\n",
      "Save\n",
      "=======================Batch 199==============================\n",
      "Get dataset\n",
      "----------------------- Train TrainDataset ------------------------\n",
      "Save\n",
      "=======================Batch 200==============================\n",
      "Get dataset\n",
      "----------------------- Train TrainDataset ------------------------\n",
      "Save\n",
      "=======================Batch 201==============================\n",
      "Get dataset\n",
      "----------------------- Train TrainDataset ------------------------\n",
      "Save\n",
      "=======================Batch 202==============================\n",
      "Get dataset\n",
      "----------------------- Train TrainDataset ------------------------\n",
      "Save\n",
      "=======================Batch 203==============================\n",
      "Get dataset\n",
      "----------------------- Train TrainDataset ------------------------\n",
      "Save\n",
      "=======================Batch 204==============================\n",
      "Get dataset\n",
      "----------------------- Train TrainDataset ------------------------\n",
      "Save\n",
      "=======================Batch 205==============================\n",
      "Get dataset\n",
      "----------------------- Train TrainDataset ------------------------\n",
      "Save\n",
      "=======================Batch 206==============================\n",
      "Get dataset\n",
      "----------------------- Train TrainDataset ------------------------\n",
      "Save\n",
      "=======================Batch 207==============================\n",
      "Get dataset\n",
      "----------------------- Train TrainDataset ------------------------\n",
      "Save\n",
      "=======================Batch 208==============================\n",
      "Get dataset\n",
      "----------------------- Train TrainDataset ------------------------\n",
      "Save\n",
      "=======================Batch 209==============================\n",
      "Get dataset\n",
      "----------------------- Train TrainDataset ------------------------\n",
      "Save\n",
      "=======================Batch 210==============================\n",
      "Get dataset\n",
      "----------------------- Train TrainDataset ------------------------\n",
      "Save\n",
      "=======================Batch 211==============================\n",
      "Get dataset\n",
      "----------------------- Train TrainDataset ------------------------\n",
      "Save\n",
      "=======================Batch 212==============================\n",
      "Get dataset\n",
      "----------------------- Train TrainDataset ------------------------\n",
      "Save\n",
      "=======================Batch 213==============================\n",
      "Get dataset\n",
      "----------------------- Train TrainDataset ------------------------\n",
      "Save\n",
      "=======================Batch 214==============================\n",
      "Get dataset\n",
      "----------------------- Train TrainDataset ------------------------\n",
      "Save\n",
      "=======================Batch 215==============================\n",
      "Get dataset\n",
      "----------------------- Train TrainDataset ------------------------\n",
      "Save\n",
      "=======================Batch 216==============================\n",
      "Get dataset\n",
      "----------------------- Train TrainDataset ------------------------\n",
      "Save\n",
      "=======================Batch 217==============================\n",
      "Get dataset\n",
      "----------------------- Train TrainDataset ------------------------\n",
      "Save\n",
      "=======================Batch 218==============================\n",
      "Get dataset\n",
      "----------------------- Train TrainDataset ------------------------\n",
      "Save\n",
      "=======================Batch 219==============================\n",
      "Get dataset\n",
      "----------------------- Train TrainDataset ------------------------\n",
      "Save\n",
      "=======================Batch 220==============================\n",
      "Get dataset\n",
      "----------------------- Train TrainDataset ------------------------\n",
      "Save\n",
      "=======================Batch 221==============================\n",
      "Get dataset\n",
      "----------------------- Train TrainDataset ------------------------\n",
      "Save\n",
      "=======================Batch 222==============================\n",
      "Get dataset\n",
      "----------------------- Train TrainDataset ------------------------\n",
      "Save\n",
      "=======================Batch 223==============================\n",
      "Get dataset\n",
      "----------------------- Train TrainDataset ------------------------\n",
      "Save\n",
      "=======================Batch 224==============================\n",
      "Get dataset\n",
      "----------------------- Train TrainDataset ------------------------\n",
      "Save\n",
      "=======================Batch 225==============================\n",
      "Get dataset\n",
      "----------------------- Train TrainDataset ------------------------\n",
      "Save\n",
      "=======================Batch 226==============================\n",
      "Get dataset\n",
      "----------------------- Train TrainDataset ------------------------\n",
      "Save\n",
      "=======================Batch 227==============================\n",
      "Get dataset\n",
      "----------------------- Train TrainDataset ------------------------\n",
      "Save\n",
      "=======================Batch 228==============================\n",
      "Get dataset\n",
      "----------------------- Train TrainDataset ------------------------\n",
      "Save\n",
      "=======================Batch 229==============================\n",
      "Get dataset\n",
      "----------------------- Train TrainDataset ------------------------\n",
      "Save\n",
      "=======================Batch 230==============================\n",
      "Get dataset\n",
      "----------------------- Train TrainDataset ------------------------\n",
      "Save\n",
      "=======================Batch 231==============================\n",
      "Get dataset\n",
      "----------------------- Train TrainDataset ------------------------\n",
      "Save\n",
      "=======================Batch 232==============================\n",
      "Get dataset\n",
      "----------------------- Train TrainDataset ------------------------\n",
      "Save\n",
      "=======================Batch 233==============================\n",
      "Get dataset\n",
      "----------------------- Train TrainDataset ------------------------\n",
      "Save\n",
      "=======================Batch 234==============================\n",
      "Get dataset\n",
      "----------------------- Train TrainDataset ------------------------\n",
      "Save\n",
      "=======================Batch 235==============================\n",
      "Get dataset\n",
      "----------------------- Train TrainDataset ------------------------\n",
      "Save\n",
      "=======================Batch 236==============================\n",
      "Get dataset\n",
      "----------------------- Train TrainDataset ------------------------\n",
      "Save\n",
      "=======================Batch 237==============================\n",
      "Get dataset\n",
      "----------------------- Train TrainDataset ------------------------\n",
      "Save\n",
      "=======================Batch 238==============================\n",
      "Get dataset\n",
      "----------------------- Train TrainDataset ------------------------\n",
      "Save\n",
      "=======================Batch 239==============================\n",
      "Get dataset\n",
      "----------------------- Train TrainDataset ------------------------\n",
      "Save\n",
      "=======================Batch 240==============================\n",
      "Get dataset\n",
      "----------------------- Train TrainDataset ------------------------\n",
      "Save\n",
      "=======================Batch 241==============================\n",
      "Get dataset\n",
      "----------------------- Train TrainDataset ------------------------\n",
      "Save\n",
      "=======================Batch 242==============================\n",
      "Get dataset\n",
      "----------------------- Train TrainDataset ------------------------\n",
      "Save\n",
      "=======================Batch 243==============================\n",
      "Get dataset\n",
      "----------------------- Train TrainDataset ------------------------\n",
      "Save\n",
      "=======================Batch 244==============================\n",
      "Get dataset\n",
      "----------------------- Train TrainDataset ------------------------\n",
      "Save\n",
      "=======================Batch 245==============================\n",
      "Get dataset\n",
      "----------------------- Train TrainDataset ------------------------\n",
      "Save\n",
      "=======================Batch 246==============================\n",
      "Get dataset\n",
      "----------------------- Train TrainDataset ------------------------\n",
      "Save\n",
      "=======================Batch 247==============================\n",
      "Get dataset\n",
      "----------------------- Train TrainDataset ------------------------\n",
      "Save\n",
      "=======================Batch 248==============================\n",
      "Get dataset\n",
      "----------------------- Train TrainDataset ------------------------\n",
      "Save\n",
      "=======================Batch 249==============================\n",
      "Get dataset\n",
      "----------------------- Train TrainDataset ------------------------\n",
      "Save\n",
      "=======================Batch 250==============================\n",
      "Get dataset\n",
      "----------------------- Train TrainDataset ------------------------\n",
      "Save\n",
      "=======================Batch 251==============================\n",
      "Get dataset\n",
      "----------------------- Train TrainDataset ------------------------\n",
      "Save\n",
      "=======================Batch 252==============================\n",
      "Get dataset\n",
      "----------------------- Train TrainDataset ------------------------\n",
      "Save\n",
      "=======================Batch 253==============================\n",
      "Get dataset\n",
      "----------------------- Train TrainDataset ------------------------\n",
      "Save\n",
      "=======================Batch 254==============================\n",
      "Get dataset\n",
      "----------------------- Train TrainDataset ------------------------\n"
     ]
    }
   ],
   "source": [
    "# trained_model = model_train_dataset(model, train_list_IDs, val_list_IDs, protein_folder, label_folder, label_list, batch_size, epochs, save_path, best_path)"
   ]
  },
  {
   "cell_type": "markdown",
   "metadata": {
    "id": "Hs-FZVFcK8YZ"
   },
   "source": [
    "# New test"
   ]
  },
  {
   "cell_type": "code",
   "execution_count": null,
   "metadata": {
    "id": "0xoPxbslPCOU"
   },
   "outputs": [],
   "source": [
    "model = keras.models.load_model(save_path+'.keras')"
   ]
  },
  {
   "cell_type": "code",
   "execution_count": null,
   "metadata": {
    "colab": {
     "base_uri": "https://localhost:8080/"
    },
    "id": "Ud2UA89vuG6T",
    "outputId": "7e2ea09d-8a47-4287-d922-1ac5e04c1026"
   },
   "outputs": [],
   "source": [
    "model.summary()"
   ]
  },
  {
   "cell_type": "code",
   "execution_count": null,
   "metadata": {
    "id": "YtR-9j8zK8Jx"
   },
   "outputs": [],
   "source": [
    "# PearsonR, MSE, precision, recall, specificity, NPV, MCC = model_val_dataset(test_list_IDs, protein_folder, label_folder, label_list, batch_size, epochs, save_path, best_path)"
   ]
  },
  {
   "cell_type": "code",
   "execution_count": null,
   "metadata": {
    "id": "ShFokuSr8B2w"
   },
   "outputs": [],
   "source": [
    "# !pip install mayavi"
   ]
  },
  {
   "cell_type": "code",
   "execution_count": null,
   "metadata": {
    "id": "UdsXuPUOBRog"
   },
   "outputs": [],
   "source": [
    "# test1_list_IDs = permu[12000:12100]"
   ]
  },
  {
   "cell_type": "code",
   "execution_count": null,
   "metadata": {
    "id": "pD4KjI3dtHb4"
   },
   "outputs": [],
   "source": [
    "# len(test1_list_IDs)"
   ]
  },
  {
   "cell_type": "code",
   "execution_count": 98,
   "metadata": {
    "colab": {
     "base_uri": "https://localhost:8080/",
     "height": 936
    },
    "id": "8BRpLNa_Be-p",
    "outputId": "9252f16d-1495-47c9-a2d8-72e5b0957506"
   },
   "outputs": [
    {
     "name": "stdout",
     "output_type": "stream",
     "text": [
      "----------------------- Start ValDataset ------------------------\n",
      "Get dataset on batch 1\n",
      "----------------------- Predict ValDataset ------------------------\n",
      "1/1 - 0s - 270ms/step\n",
      "Get dataset on batch 2\n",
      "----------------------- Predict ValDataset ------------------------\n",
      "1/1 - 0s - 272ms/step\n",
      "Get dataset on batch 3\n",
      "----------------------- Predict ValDataset ------------------------\n",
      "1/1 - 0s - 273ms/step\n",
      "Get dataset on batch 4\n",
      "----------------------- Predict ValDataset ------------------------\n",
      "1/1 - 0s - 84ms/step\n",
      "[-6.2, -6.5, -5.9, -6.7, -7.2, -6.4, -5.9, -6.3, -6.7, -6.0, -6.4, -7.1, -6.2, -7.5, -6.9, -7.3, -6.9, -7.3, -6.3, -6.8, -7.1, -6.2, -7.0, -6.8, -6.7, -7.6, -7.5, -6.3, -6.7, -6.3, -7.9, -7.4, -6.4, -5.8, -7.1, -6.5, -6.9, -6.7, -7.1, -6.3, -6.7, -6.6, -5.9, -7.1, -6.3, -6.7, -6.5, -7.2, -5.8, -8.1, -7.7, -6.4, -7.4, -7.0, -6.5, -6.1, -7.0, -6.4, -7.1, -6.4, -7.0, -7.0, -6.2, -6.6, -6.3, -6.1, -6.6, -6.7, -6.1, -7.0, -7.2, -6.6, -7.6, -6.6, -6.2, -7.7, -6.4, -7.2, -6.8, -6.9, -7.5, -7.2, -6.0, -6.6, -6.2, -6.2, -6.9, -6.8, -7.3, -7.0, -7.7, -7.2, -7.5, -7.2, -7.6, -6.4, -7.2, -6.3, -6.2, -7.0] [-7.663809776306152, -6.735006332397461, -6.558995246887207, -7.663809776306152, -6.951796531677246, -6.736719131469727, -6.271882057189941, -6.271882057189941, -6.283574104309082, -6.558995246887207, -7.23667049407959, -6.283574104309082, -6.558995246887207, -6.818859100341797, -7.146707534790039, -6.736719131469727, -7.663809776306152, -7.23667049407959, -7.395552635192871, -7.1482038497924805, -6.736719131469727, -6.813751220703125, -6.558995246887207, -7.663809776306152, -7.23667049407959, -7.044215202331543, -7.395552635192871, -6.558995246887207, -7.395552635192871, -6.271882057189941, -7.663809776306152, -6.558995246887207, -7.663809776306152, -6.271882057189941, -6.558995246887207, -7.23667049407959, -6.736719131469727, -6.910360336303711, -7.23667049407959, -7.395552635192871, -7.395552635192871, -7.395552635192871, -7.663809776306152, -7.395552635192871, -7.395552635192871, -7.663809776306152, -6.271882057189941, -6.736719131469727, -7.663809776306152, -6.283574104309082, -7.395552635192871, -7.395552635192871, -6.736719131469727, -6.736719131469727, -7.23667049407959, -6.558995246887207, -7.663809776306152, -7.23667049407959, -6.736719131469727, -6.736719131469727, -6.736719131469727, -7.663809776306152, -7.663809776306152, -6.558995246887207, -6.809871673583984, -6.558995246887207, -6.736719131469727, -6.558995246887207, -7.23667049407959, -7.395552635192871, -6.558995246887207, -7.663809776306152, -7.395552635192871, -6.736719131469727, -6.283574104309082, -6.283574104309082, -6.558995246887207, -7.23667049407959, -6.558995246887207, -6.558995246887207, -6.558995246887207, -6.558995246887207, -6.558995246887207, -7.663809776306152, -6.558995246887207, -6.736719131469727, -6.6772260665893555, -6.99052619934082, -6.558995246887207, -6.982816696166992, -6.736719131469727, -6.271882057189941, -6.283574104309082, -7.663809776306152, -7.663809776306152, -6.736719131469727, -7.663813591003418, -6.558993339538574, -6.283574104309082, -6.736721038818359]\n",
      "++++++++++++++++++++++++++Regression++++++++++++++++++++++++++\n",
      "Pearson Correlation Coefficient: 0.05121422723849763\n",
      "Mean Absolute Error: 0.5666631\n",
      "-------------------------------------------------------------\n",
      "+++++++++++++++++++++++Classification+++++++++++++++++++++++\n",
      "TP Result: 10.0\n",
      "FP Result: 0.0\n",
      "Precision: 1.0\n",
      "Recall: 0.1754386\n",
      "Specificity: 1.0\n",
      "NPV: 0.47777778\n",
      "Phi coefficient:0.2895179834967617\n"
     ]
    }
   ],
   "source": [
    "PearsonR, MSE, precision, recall, specificity, NPV, MCC, ba_Actual, ba_Pred, stat_Actual, stat_Pred = model_val_dataset(val_list_IDs, protein_folder, label_folder, label_list, batch_size, save_path)"
   ]
  },
  {
   "cell_type": "code",
   "execution_count": 99,
   "metadata": {
    "colab": {
     "base_uri": "https://localhost:8080/"
    },
    "id": "1_mMxZ_uEqW1",
    "outputId": "31671863-1b04-4c73-abf7-43a73fdca889"
   },
   "outputs": [
    {
     "ename": "TypeError",
     "evalue": "model_val_dataset() takes 6 positional arguments but 8 were given",
     "output_type": "error",
     "traceback": [
      "\u001b[0;31m---------------------------------------------------------------------------\u001b[0m",
      "\u001b[0;31mTypeError\u001b[0m                                 Traceback (most recent call last)",
      "Cell \u001b[0;32mIn[99], line 1\u001b[0m\n\u001b[0;32m----> 1\u001b[0m PearsonR, MSE, precision, recall, specificity, NPV, MCC, ba_Actual, ba_Pred, stat_Actual, stat_Pred \u001b[38;5;241m=\u001b[39m \u001b[43mmodel_val_dataset\u001b[49m\u001b[43m(\u001b[49m\u001b[43mtest_list_IDs\u001b[49m\u001b[43m,\u001b[49m\u001b[43m \u001b[49m\u001b[43mprotein_folder\u001b[49m\u001b[43m,\u001b[49m\u001b[43m \u001b[49m\u001b[43mlabel_folder\u001b[49m\u001b[43m,\u001b[49m\u001b[43m \u001b[49m\u001b[43mlabel_list\u001b[49m\u001b[43m,\u001b[49m\u001b[43m \u001b[49m\u001b[43mbatch_size\u001b[49m\u001b[43m,\u001b[49m\u001b[43m \u001b[49m\u001b[43mepochs\u001b[49m\u001b[43m,\u001b[49m\u001b[43m \u001b[49m\u001b[43msave_path\u001b[49m\u001b[43m,\u001b[49m\u001b[43m \u001b[49m\u001b[43mbest_path\u001b[49m\u001b[43m)\u001b[49m\n",
      "\u001b[0;31mTypeError\u001b[0m: model_val_dataset() takes 6 positional arguments but 8 were given"
     ]
    }
   ],
   "source": [
    "PearsonR, MSE, precision, recall, specificity, NPV, MCC, ba_Actual, ba_Pred, stat_Actual, stat_Pred = model_val_dataset(test_list_IDs, protein_folder, label_folder, label_list, batch_size, save_path)"
   ]
  },
  {
   "cell_type": "code",
   "execution_count": null,
   "metadata": {
    "id": "6kHrByMJwOi8"
   },
   "outputs": [],
   "source": [
    "# len(stat_Pred)"
   ]
  },
  {
   "cell_type": "code",
   "execution_count": null,
   "metadata": {
    "id": "UPxBmuEctf-H"
   },
   "outputs": [],
   "source": [
    "fields = ['Model', 'Hit_Label', 'Hit_Prediction', 'BindingAffinity_Label', 'BindingAffinity_Prediction']"
   ]
  },
  {
   "cell_type": "code",
   "execution_count": null,
   "metadata": {
    "id": "V2knjpVst5nI"
   },
   "outputs": [],
   "source": [
    "rows = []"
   ]
  },
  {
   "cell_type": "code",
   "execution_count": null,
   "metadata": {
    "id": "qULux58wspSG"
   },
   "outputs": [],
   "source": [
    "for idx, value in enumerate(val_list_IDs):\n",
    "  row = []\n",
    "  row.append(ligand_list[value])\n",
    "  row.append(stat_Actual[idx])\n",
    "  row.append(stat_Pred[idx])\n",
    "  row.append(ba_Actual[idx])\n",
    "  row.append(ba_Pred[idx])\n",
    "  # row = (ligand_list[value], stat_Actual[idx], stat_Pred[idx], ba_Actual[idx], ba_Pred[idx])\n",
    "  # print(type(row))\n",
    "  rows.append(row)\n",
    "  # if rows == []:\n",
    "  #   rows = row\n",
    "  # else:\n",
    "  #   rows.append(row)"
   ]
  },
  {
   "cell_type": "code",
   "execution_count": null,
   "metadata": {
    "colab": {
     "base_uri": "https://localhost:8080/"
    },
    "id": "nK26U2Z6v7hr",
    "outputId": "a6300080-c35c-44ba-9d15-cfa63e378016"
   },
   "outputs": [],
   "source": [
    "rows"
   ]
  },
  {
   "cell_type": "code",
   "execution_count": null,
   "metadata": {
    "colab": {
     "base_uri": "https://localhost:8080/"
    },
    "id": "aDPLA1iUvsH3",
    "outputId": "689c0512-1ed2-4160-b215-ddf2eacd66e5"
   },
   "outputs": [],
   "source": [
    "len(rows)"
   ]
  },
  {
   "cell_type": "code",
   "execution_count": null,
   "metadata": {
    "id": "4oDRBaTgzRyZ"
   },
   "outputs": [],
   "source": [
    "csv_path = './Final/CSV/resultSFCNN.csv'"
   ]
  },
  {
   "cell_type": "code",
   "execution_count": null,
   "metadata": {
    "id": "zgYjL9apzL7L"
   },
   "outputs": [],
   "source": [
    "with open(csv_path, 'w') as csvfile:\n",
    "    # creating a csv writer object\n",
    "    csvwriter = csv.writer(csvfile)\n",
    "\n",
    "    # writing the fields\n",
    "    csvwriter.writerow(fields)\n",
    "\n",
    "    # writing the data rows\n",
    "    csvwriter.writerows(rows)"
   ]
  },
  {
   "cell_type": "code",
   "execution_count": null,
   "metadata": {
    "id": "QstFSYUC7-pW"
   },
   "outputs": [],
   "source": []
  },
  {
   "cell_type": "code",
   "execution_count": null,
   "metadata": {
    "id": "nBFCxPOx7-lx"
   },
   "outputs": [],
   "source": [
    "# datatset_path = '/content/gdrive/MyDrive/Final/CSV/dataset.csv'"
   ]
  },
  {
   "cell_type": "code",
   "execution_count": null,
   "metadata": {
    "id": "QU9W38wN8I01"
   },
   "outputs": [],
   "source": [
    "# fields = ['Model', 'Protein', 'Ligand']"
   ]
  },
  {
   "cell_type": "code",
   "execution_count": null,
   "metadata": {
    "id": "ORAgNMn_8Ygi"
   },
   "outputs": [],
   "source": [
    "rows = []"
   ]
  },
  {
   "cell_type": "code",
   "execution_count": null,
   "metadata": {
    "id": "8PGPyNL2-3Lb"
   },
   "outputs": [],
   "source": [
    "count = 0"
   ]
  },
  {
   "cell_type": "code",
   "execution_count": null,
   "metadata": {
    "id": "ORuDxtei8Pjo"
   },
   "outputs": [],
   "source": [
    "# for idx, value in enumerate(test1_list_IDs):\n",
    "#   row = []\n",
    "#   row.append(idx+1)\n",
    "#   ligand = ligand_list[value]\n",
    "#   pro = ligand.split('-')[0]\n",
    "#   protein = [value for value in protein_list if pro in value][0]\n",
    "#   protein_name = protein.split('.')[0]\n",
    "#   ligand_name = ligand.split('.')[0]\n",
    "#   row.append(protein_name)\n",
    "#   row.append(ligand_name)\n",
    "#   count +=1\n",
    "\n",
    "#   rows.append(row)\n",
    "#   # if rows == []:\n",
    "#   #   rows = row\n",
    "#   # else:\n",
    "#   #   rows.append(row)"
   ]
  },
  {
   "cell_type": "code",
   "execution_count": null,
   "metadata": {
    "id": "zifqQUqU--FD"
   },
   "outputs": [],
   "source": [
    "# with open(datatset_path, 'w+') as csvfile:\n",
    "#     # creating a csv writer object\n",
    "#     csvwriter = csv.writer(csvfile)\n",
    "\n",
    "#     # writing the fields\n",
    "#     csvwriter.writerow(fields)\n",
    "\n",
    "#     # writing the data rows\n",
    "#     csvwriter.writerows(rows)"
   ]
  },
  {
   "cell_type": "code",
   "execution_count": null,
   "metadata": {
    "id": "A2Zkvrxe-Z1o"
   },
   "outputs": [],
   "source": [
    "# rows"
   ]
  },
  {
   "cell_type": "markdown",
   "metadata": {
    "id": "91JYFH_UQg0a"
   },
   "source": [
    "# Draw"
   ]
  },
  {
   "cell_type": "code",
   "execution_count": null,
   "metadata": {
    "colab": {
     "base_uri": "https://localhost:8080/"
    },
    "id": "wBztK66B8Cek",
    "outputId": "8506ac11-7111-4b1c-cf5b-2c879e5f5a02"
   },
   "outputs": [],
   "source": [
    "try:\n",
    "  import py3Dmol\n",
    "except:\n",
    "  %pip install py3Dmol\n",
    "  import py3Dmol"
   ]
  },
  {
   "cell_type": "code",
   "execution_count": null,
   "metadata": {
    "colab": {
     "base_uri": "https://localhost:8080/"
    },
    "id": "WxYnYrpwRuZu",
    "outputId": "59793d8b-08e2-4435-c835-5d29a8578f75"
   },
   "outputs": [],
   "source": [
    "14748"
   ]
  },
  {
   "cell_type": "code",
   "execution_count": null,
   "metadata": {
    "colab": {
     "base_uri": "https://localhost:8080/",
     "height": 35
    },
    "id": "5xUZsawkRv1B",
    "outputId": "464df3f7-302c-4542-ba90-c94e2e14c2d7"
   },
   "outputs": [],
   "source": [
    "ligand_14748 = ligand_list[14748]\n",
    "ligand_14748"
   ]
  },
  {
   "cell_type": "code",
   "execution_count": null,
   "metadata": {
    "id": "nzxIt6koSI5Z"
   },
   "outputs": [],
   "source": [
    "# ligand_14748_path = os.path.join(ligand_folder, ligand_14748)\n",
    "hitLead_Ligand = './ligand/5c1u-CR_model22.pdb'"
   ]
  },
  {
   "cell_type": "code",
   "execution_count": null,
   "metadata": {
    "id": "MzQm-fqzR1MD"
   },
   "outputs": [],
   "source": [
    "hitLead_Protein = './protein/5c1u.pdb'"
   ]
  },
  {
   "cell_type": "code",
   "execution_count": null,
   "metadata": {
    "id": "x7pFGbIqiPCR"
   },
   "outputs": [],
   "source": [
    "# ligand_14748_path = os.path.join(ligand_folder, ligand_14748)\n",
    "hit_Ligand = './ligand/5c1u-GC376_model97.pdb'"
   ]
  },
  {
   "cell_type": "code",
   "execution_count": null,
   "metadata": {
    "id": "NFCkdkIfiRTW"
   },
   "outputs": [],
   "source": [
    "hit_Protein = './protein/3qzr.pdb'"
   ]
  },
  {
   "cell_type": "code",
   "execution_count": null,
   "metadata": {
    "id": "jTpLY9Iain8u"
   },
   "outputs": [],
   "source": [
    "no_Ligand = './ligand/5c1u-FOPMC_model71.pdb'"
   ]
  },
  {
   "cell_type": "code",
   "execution_count": null,
   "metadata": {
    "id": "1GHdpXQWiiYl"
   },
   "outputs": [],
   "source": [
    "no_Protein = './protein/3qzr.pdb'"
   ]
  },
  {
   "cell_type": "code",
   "execution_count": null,
   "metadata": {
    "id": "bUxWaPjnKXzN"
   },
   "outputs": [],
   "source": [
    "# view = py3Dmol.view()\n",
    "# view.addModel(open(protein_5gso_path, 'r').read(),'pdb')\n",
    "# view.setBackgroundColor('white')\n",
    "# # view.setStyle({'chain':'A'}, {'cartoon': {'color':'purple'}})\n",
    "# view.addStyle({'resn':'UH7'}, {'stick': {'colorscheme':'yellowCarbon'}})\n",
    "# view.addStyle({'within':{'distance':'5', 'sel':{'resn':'UH7'}}}, {'stick': {}})\n",
    "# # view.addSurface(py3Dmol.VDW, {'opacity':0.8, 'color':'blue'}, \\\n",
    "# #   {'not':{'or':[{'resn':'UH7'}, {'resn':'DMS'}]}})\n",
    "\n",
    "# view.addModel(open(ligand_16545_path, 'r').read(),'pdb')\n",
    "# view.addStyle({'resn':'UH7'}, {'stick': {'colorscheme':'yellowCarbon'}})\n",
    "# view.addStyle({'within':{'distance':'5', 'sel':{'resn':'UH7'}}}, {'stick': {}})\n",
    "# # view.addSurface(py3Dmol.VDW, {'opacity':0.9, 'color':'yellow'}, \\\n",
    "# #   {'not':{'or':[{'resn':'UH7'}, {'resn':'DMS'}]}})\n",
    "\n",
    "# view.zoomTo()\n",
    "# view.show()"
   ]
  },
  {
   "cell_type": "code",
   "execution_count": null,
   "metadata": {
    "colab": {
     "base_uri": "https://localhost:8080/",
     "height": 497
    },
    "id": "LcwpU37dP9sR",
    "outputId": "3472c1fe-5571-4ea4-acf3-b36edff2df0f"
   },
   "outputs": [],
   "source": [
    "view = py3Dmol.view()\n",
    "view.removeAllModels()\n",
    "view.setViewStyle({'style':'outline','color':'black','width':0.1})\n",
    "\n",
    "view.addModel(open(hitLead_Protein,'r').read(),format='pdb')\n",
    "Prot=view.getModel()\n",
    "Prot.setStyle({'cartoon':{'arrows':True, 'tubes':True, 'style':'oval', 'color':'white'}})\n",
    "view.addSurface(py3Dmol.VDW,{'opacity':0.8,'color':'white'})\n",
    "\n",
    "\n",
    "view.addModel(open(hitLead_Ligand,'r').read(),format='mol2')\n",
    "ref_m1 = view.getModel()\n",
    "ref_m1.setStyle({},{'stick':{'colorscheme':'redCarbon','radius':0.2}})\n",
    "\n",
    "view.addModel(open(hit_Ligand,'r').read(),format='mol2')\n",
    "ref_m2 = view.getModel()\n",
    "ref_m2.setStyle({},{'stick':{'colorscheme':'blueCarbon','radius':0.2}})\n",
    "\n",
    "view.addModel(open(no_Ligand,'r').read(),format='mol2')\n",
    "ref_m3 = view.getModel()\n",
    "ref_m3.setStyle({},{'stick':{'colorscheme':'yellowCarbon','radius':0.2}})\n",
    "\n",
    "# ref_m.setStyle({},{'cartoon':{'arrows':True, 'tubes':True, 'style':'oval', 'color':'red'}})\n",
    "# ref_m.setStyle({'cartoon':{'arrows':True, 'tubes':True, 'style':'oval', 'color':'red'}})\n",
    "\n",
    "\n",
    "# results=Chem.SDMolSupplier('1AZ8_lig_vina_out.sdf')\n",
    "\n",
    "# p=Chem.MolToMolBlock(results[0],False)\n",
    "\n",
    "# print('Reference: Magenta | Vina Pose: Cyan')\n",
    "# print ('Pose: {} | Score: {}'.format(results[0].GetProp('Pose'),results[0].GetProp('Score')))\n",
    "\n",
    "# view.addModel(p,'mol')\n",
    "# x = view.getModel()\n",
    "# x.setStyle({},{'stick':{'colorscheme':'cyanCarbon','radius':0.2}})\n",
    "\n",
    "view.zoomTo()\n",
    "view.show()"
   ]
  },
  {
   "cell_type": "code",
   "execution_count": null,
   "metadata": {
    "colab": {
     "base_uri": "https://localhost:8080/",
     "height": 497
    },
    "id": "1o8CH-K7LsBp",
    "outputId": "31a1bb68-8e33-4579-af4d-b4a9f4104c14"
   },
   "outputs": [],
   "source": [
    "view = py3Dmol.view()\n",
    "view.removeAllModels()\n",
    "view.setViewStyle({'style':'outline','color':'black','width':0.1})\n",
    "\n",
    "# view.addModel(open(hitLead_Protein,'r').read(),format='pdb')\n",
    "# Prot=view.getModel()\n",
    "# Prot.setStyle({'cartoon':{'arrows':True, 'tubes':True, 'style':'oval', 'color':'white'}})\n",
    "# view.addSurface(py3Dmol.VDW,{'opacity':0.8,'color':'white'})\n",
    "\n",
    "\n",
    "view.addModel(open(hitLead_Ligand,'r').read(),format='mol2')\n",
    "ref_m = view.getModel()\n",
    "ref_m.setStyle({},{'stick':{'colorscheme':'magentaCarbon','radius':0.2}})\n",
    "# ref_m.setStyle({},{'cartoon':{'arrows':True, 'tubes':True, 'style':'oval', 'color':'red'}})\n",
    "# ref_m.setStyle({'cartoon':{'arrows':True, 'tubes':True, 'style':'oval', 'color':'red'}})\n",
    "\n",
    "\n",
    "# results=Chem.SDMolSupplier('1AZ8_lig_vina_out.sdf')\n",
    "\n",
    "# p=Chem.MolToMolBlock(results[0],False)\n",
    "\n",
    "# print('Reference: Magenta | Vina Pose: Cyan')\n",
    "# print ('Pose: {} | Score: {}'.format(results[0].GetProp('Pose'),results[0].GetProp('Score')))\n",
    "\n",
    "# view.addModel(p,'mol')\n",
    "# x = view.getModel()\n",
    "# x.setStyle({},{'stick':{'colorscheme':'cyanCarbon','radius':0.2}})\n",
    "\n",
    "view.zoomTo()\n",
    "view.show()"
   ]
  },
  {
   "cell_type": "code",
   "execution_count": null,
   "metadata": {
    "colab": {
     "base_uri": "https://localhost:8080/",
     "height": 497
    },
    "id": "TA1BHp6Vivnp",
    "outputId": "650f511c-be0b-43ae-d8eb-d35c57443959"
   },
   "outputs": [],
   "source": [
    "view = py3Dmol.view()\n",
    "view.removeAllModels()\n",
    "view.setViewStyle({'style':'outline','color':'black','width':0.1})\n",
    "\n",
    "view.addModel(open(hitLead_Protein,'r').read(),format='pdb')\n",
    "Prot=view.getModel()\n",
    "Prot.setStyle({'cartoon':{'arrows':True, 'tubes':True, 'style':'oval', 'color':'white'}})\n",
    "view.addSurface(py3Dmol.VDW,{'opacity':0.8,'color':'white'})\n",
    "\n",
    "\n",
    "view.addModel(open(hitLead_Ligand,'r').read(),format='mol2')\n",
    "ref_m = view.getModel()\n",
    "ref_m.setStyle({},{'stick':{'colorscheme':'magentaCarbon','radius':0.2}})\n",
    "# ref_m.setStyle({},{'cartoon':{'arrows':True, 'tubes':True, 'style':'oval', 'color':'red'}})\n",
    "# ref_m.setStyle({'cartoon':{'arrows':True, 'tubes':True, 'style':'oval', 'color':'red'}})\n",
    "\n",
    "\n",
    "# results=Chem.SDMolSupplier('1AZ8_lig_vina_out.sdf')\n",
    "\n",
    "# p=Chem.MolToMolBlock(results[0],False)\n",
    "\n",
    "# print('Reference: Magenta | Vina Pose: Cyan')\n",
    "# print ('Pose: {} | Score: {}'.format(results[0].GetProp('Pose'),results[0].GetProp('Score')))\n",
    "\n",
    "# view.addModel(p,'mol')\n",
    "# x = view.getModel()\n",
    "# x.setStyle({},{'stick':{'colorscheme':'cyanCarbon','radius':0.2}})\n",
    "\n",
    "view.zoomTo()\n",
    "view.show()"
   ]
  },
  {
   "cell_type": "code",
   "execution_count": null,
   "metadata": {
    "colab": {
     "base_uri": "https://localhost:8080/",
     "height": 497
    },
    "id": "dmFJq5FeiyBG",
    "outputId": "7ef2cc53-2188-48e4-ac60-b6fa3b5951d5"
   },
   "outputs": [],
   "source": [
    "view = py3Dmol.view()\n",
    "view.removeAllModels()\n",
    "view.setViewStyle({'style':'outline','color':'black','width':0.1})\n",
    "\n",
    "view.addModel(open(hit_Protein,'r').read(),format='pdb')\n",
    "Prot=view.getModel()\n",
    "Prot.setStyle({'cartoon':{'arrows':True, 'tubes':True, 'style':'oval', 'color':'white'}})\n",
    "view.addSurface(py3Dmol.VDW,{'opacity':0.8,'color':'white'})\n",
    "\n",
    "\n",
    "view.addModel(open(hit_Ligand,'r').read(),format='mol2')\n",
    "ref_m = view.getModel()\n",
    "ref_m.setStyle({},{'stick':{'colorscheme':'magentaCarbon','radius':0.2}})\n",
    "# ref_m.setStyle({},{'cartoon':{'arrows':True, 'tubes':True, 'style':'oval', 'color':'red'}})\n",
    "# ref_m.setStyle({'cartoon':{'arrows':True, 'tubes':True, 'style':'oval', 'color':'red'}})\n",
    "\n",
    "\n",
    "# results=Chem.SDMolSupplier('1AZ8_lig_vina_out.sdf')\n",
    "\n",
    "# p=Chem.MolToMolBlock(results[0],False)\n",
    "\n",
    "# print('Reference: Magenta | Vina Pose: Cyan')\n",
    "# print ('Pose: {} | Score: {}'.format(results[0].GetProp('Pose'),results[0].GetProp('Score')))\n",
    "\n",
    "# view.addModel(p,'mol')\n",
    "# x = view.getModel()\n",
    "# x.setStyle({},{'stick':{'colorscheme':'cyanCarbon','radius':0.2}})\n",
    "\n",
    "view.zoomTo()\n",
    "view.show()"
   ]
  },
  {
   "cell_type": "code",
   "execution_count": null,
   "metadata": {
    "colab": {
     "base_uri": "https://localhost:8080/",
     "height": 497
    },
    "id": "5EPEHM5IiymK",
    "outputId": "c2cbe225-ff76-4759-cad3-e24143fb9ea5"
   },
   "outputs": [],
   "source": [
    "view = py3Dmol.view()\n",
    "view.removeAllModels()\n",
    "view.setViewStyle({'style':'outline','color':'black','width':0.1})\n",
    "\n",
    "view.addModel(open(no_Protein,'r').read(),format='pdb')\n",
    "Prot=view.getModel()\n",
    "Prot.setStyle({'cartoon':{'arrows':True, 'tubes':True, 'style':'oval', 'color':'white'}})\n",
    "view.addSurface(py3Dmol.VDW,{'opacity':0.8,'color':'white'})\n",
    "\n",
    "\n",
    "view.addModel(open(no_Ligand,'r').read(),format='mol2')\n",
    "ref_m = view.getModel()\n",
    "ref_m.setStyle({},{'stick':{'colorscheme':'magentaCarbon','radius':0.2}})\n",
    "# ref_m.setStyle({},{'cartoon':{'arrows':True, 'tubes':True, 'style':'oval', 'color':'red'}})\n",
    "# ref_m.setStyle({'cartoon':{'arrows':True, 'tubes':True, 'style':'oval', 'color':'red'}})\n",
    "\n",
    "\n",
    "# results=Chem.SDMolSupplier('1AZ8_lig_vina_out.sdf')\n",
    "\n",
    "# p=Chem.MolToMolBlock(results[0],False)\n",
    "\n",
    "# print('Reference: Magenta | Vina Pose: Cyan')\n",
    "# print ('Pose: {} | Score: {}'.format(results[0].GetProp('Pose'),results[0].GetProp('Score')))\n",
    "\n",
    "# view.addModel(p,'mol')\n",
    "# x = view.getModel()\n",
    "# x.setStyle({},{'stick':{'colorscheme':'cyanCarbon','radius':0.2}})\n",
    "\n",
    "view.zoomTo()\n",
    "view.show()"
   ]
  }
 ],
 "metadata": {
  "accelerator": "GPU",
  "colab": {
   "collapsed_sections": [
    "GOhAIjjKB8eB",
    "F9RDicuMvcI9",
    "ZkIbE3sbBuIl"
   ],
   "gpuType": "T4",
   "machine_shape": "hm",
   "provenance": []
  },
  "gpuClass": "standard",
  "kernelspec": {
   "display_name": "Python 3 (ipykernel)",
   "language": "python",
   "name": "python3"
  },
  "language_info": {
   "codemirror_mode": {
    "name": "ipython",
    "version": 3
   },
   "file_extension": ".py",
   "mimetype": "text/x-python",
   "name": "python",
   "nbconvert_exporter": "python",
   "pygments_lexer": "ipython3",
   "version": "3.11.8"
  }
 },
 "nbformat": 4,
 "nbformat_minor": 4
}
